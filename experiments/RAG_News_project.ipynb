{
  "nbformat": 4,
  "nbformat_minor": 0,
  "metadata": {
    "colab": {
      "provenance": []
    },
    "kernelspec": {
      "name": "python3",
      "display_name": "Python 3"
    },
    "language_info": {
      "name": "python"
    },
    "widgets": {
      "application/vnd.jupyter.widget-state+json": {
        "9329557152514dd6811f71d8a15e3478": {
          "model_module": "@jupyter-widgets/controls",
          "model_name": "HBoxModel",
          "model_module_version": "1.5.0",
          "state": {
            "_dom_classes": [],
            "_model_module": "@jupyter-widgets/controls",
            "_model_module_version": "1.5.0",
            "_model_name": "HBoxModel",
            "_view_count": null,
            "_view_module": "@jupyter-widgets/controls",
            "_view_module_version": "1.5.0",
            "_view_name": "HBoxView",
            "box_style": "",
            "children": [
              "IPY_MODEL_e42c2f2554b440d98f56394aecddb609",
              "IPY_MODEL_56dbf78f7bdb40149791d00eccdd06b5",
              "IPY_MODEL_be0eccd06f44432087dc02e72226a372"
            ],
            "layout": "IPY_MODEL_fc085365bfe9417693017e9066d5cad2"
          }
        },
        "e42c2f2554b440d98f56394aecddb609": {
          "model_module": "@jupyter-widgets/controls",
          "model_name": "HTMLModel",
          "model_module_version": "1.5.0",
          "state": {
            "_dom_classes": [],
            "_model_module": "@jupyter-widgets/controls",
            "_model_module_version": "1.5.0",
            "_model_name": "HTMLModel",
            "_view_count": null,
            "_view_module": "@jupyter-widgets/controls",
            "_view_module_version": "1.5.0",
            "_view_name": "HTMLView",
            "description": "",
            "description_tooltip": null,
            "layout": "IPY_MODEL_9ff2da8155b64e5f9d19c23bb62660f3",
            "placeholder": "​",
            "style": "IPY_MODEL_5961bdaeec584853ac937b0064689358",
            "value": "100%"
          }
        },
        "56dbf78f7bdb40149791d00eccdd06b5": {
          "model_module": "@jupyter-widgets/controls",
          "model_name": "FloatProgressModel",
          "model_module_version": "1.5.0",
          "state": {
            "_dom_classes": [],
            "_model_module": "@jupyter-widgets/controls",
            "_model_module_version": "1.5.0",
            "_model_name": "FloatProgressModel",
            "_view_count": null,
            "_view_module": "@jupyter-widgets/controls",
            "_view_module_version": "1.5.0",
            "_view_name": "ProgressView",
            "bar_style": "success",
            "description": "",
            "description_tooltip": null,
            "layout": "IPY_MODEL_a2628fc81c074e0b8e22543dcfe246cf",
            "max": 100,
            "min": 0,
            "orientation": "horizontal",
            "style": "IPY_MODEL_9df20abb440148c79c5387fe6f7c0459",
            "value": 100
          }
        },
        "be0eccd06f44432087dc02e72226a372": {
          "model_module": "@jupyter-widgets/controls",
          "model_name": "HTMLModel",
          "model_module_version": "1.5.0",
          "state": {
            "_dom_classes": [],
            "_model_module": "@jupyter-widgets/controls",
            "_model_module_version": "1.5.0",
            "_model_name": "HTMLModel",
            "_view_count": null,
            "_view_module": "@jupyter-widgets/controls",
            "_view_module_version": "1.5.0",
            "_view_name": "HTMLView",
            "description": "",
            "description_tooltip": null,
            "layout": "IPY_MODEL_64f2c4f2d48d4009b6372e147f9d7fe5",
            "placeholder": "​",
            "style": "IPY_MODEL_411c2a425cde4790845fb5ce1777b088",
            "value": " 100/100 [04:32&lt;00:00,  3.21s/it]"
          }
        },
        "fc085365bfe9417693017e9066d5cad2": {
          "model_module": "@jupyter-widgets/base",
          "model_name": "LayoutModel",
          "model_module_version": "1.2.0",
          "state": {
            "_model_module": "@jupyter-widgets/base",
            "_model_module_version": "1.2.0",
            "_model_name": "LayoutModel",
            "_view_count": null,
            "_view_module": "@jupyter-widgets/base",
            "_view_module_version": "1.2.0",
            "_view_name": "LayoutView",
            "align_content": null,
            "align_items": null,
            "align_self": null,
            "border": null,
            "bottom": null,
            "display": null,
            "flex": null,
            "flex_flow": null,
            "grid_area": null,
            "grid_auto_columns": null,
            "grid_auto_flow": null,
            "grid_auto_rows": null,
            "grid_column": null,
            "grid_gap": null,
            "grid_row": null,
            "grid_template_areas": null,
            "grid_template_columns": null,
            "grid_template_rows": null,
            "height": null,
            "justify_content": null,
            "justify_items": null,
            "left": null,
            "margin": null,
            "max_height": null,
            "max_width": null,
            "min_height": null,
            "min_width": null,
            "object_fit": null,
            "object_position": null,
            "order": null,
            "overflow": null,
            "overflow_x": null,
            "overflow_y": null,
            "padding": null,
            "right": null,
            "top": null,
            "visibility": null,
            "width": null
          }
        },
        "9ff2da8155b64e5f9d19c23bb62660f3": {
          "model_module": "@jupyter-widgets/base",
          "model_name": "LayoutModel",
          "model_module_version": "1.2.0",
          "state": {
            "_model_module": "@jupyter-widgets/base",
            "_model_module_version": "1.2.0",
            "_model_name": "LayoutModel",
            "_view_count": null,
            "_view_module": "@jupyter-widgets/base",
            "_view_module_version": "1.2.0",
            "_view_name": "LayoutView",
            "align_content": null,
            "align_items": null,
            "align_self": null,
            "border": null,
            "bottom": null,
            "display": null,
            "flex": null,
            "flex_flow": null,
            "grid_area": null,
            "grid_auto_columns": null,
            "grid_auto_flow": null,
            "grid_auto_rows": null,
            "grid_column": null,
            "grid_gap": null,
            "grid_row": null,
            "grid_template_areas": null,
            "grid_template_columns": null,
            "grid_template_rows": null,
            "height": null,
            "justify_content": null,
            "justify_items": null,
            "left": null,
            "margin": null,
            "max_height": null,
            "max_width": null,
            "min_height": null,
            "min_width": null,
            "object_fit": null,
            "object_position": null,
            "order": null,
            "overflow": null,
            "overflow_x": null,
            "overflow_y": null,
            "padding": null,
            "right": null,
            "top": null,
            "visibility": null,
            "width": null
          }
        },
        "5961bdaeec584853ac937b0064689358": {
          "model_module": "@jupyter-widgets/controls",
          "model_name": "DescriptionStyleModel",
          "model_module_version": "1.5.0",
          "state": {
            "_model_module": "@jupyter-widgets/controls",
            "_model_module_version": "1.5.0",
            "_model_name": "DescriptionStyleModel",
            "_view_count": null,
            "_view_module": "@jupyter-widgets/base",
            "_view_module_version": "1.2.0",
            "_view_name": "StyleView",
            "description_width": ""
          }
        },
        "a2628fc81c074e0b8e22543dcfe246cf": {
          "model_module": "@jupyter-widgets/base",
          "model_name": "LayoutModel",
          "model_module_version": "1.2.0",
          "state": {
            "_model_module": "@jupyter-widgets/base",
            "_model_module_version": "1.2.0",
            "_model_name": "LayoutModel",
            "_view_count": null,
            "_view_module": "@jupyter-widgets/base",
            "_view_module_version": "1.2.0",
            "_view_name": "LayoutView",
            "align_content": null,
            "align_items": null,
            "align_self": null,
            "border": null,
            "bottom": null,
            "display": null,
            "flex": null,
            "flex_flow": null,
            "grid_area": null,
            "grid_auto_columns": null,
            "grid_auto_flow": null,
            "grid_auto_rows": null,
            "grid_column": null,
            "grid_gap": null,
            "grid_row": null,
            "grid_template_areas": null,
            "grid_template_columns": null,
            "grid_template_rows": null,
            "height": null,
            "justify_content": null,
            "justify_items": null,
            "left": null,
            "margin": null,
            "max_height": null,
            "max_width": null,
            "min_height": null,
            "min_width": null,
            "object_fit": null,
            "object_position": null,
            "order": null,
            "overflow": null,
            "overflow_x": null,
            "overflow_y": null,
            "padding": null,
            "right": null,
            "top": null,
            "visibility": null,
            "width": null
          }
        },
        "9df20abb440148c79c5387fe6f7c0459": {
          "model_module": "@jupyter-widgets/controls",
          "model_name": "ProgressStyleModel",
          "model_module_version": "1.5.0",
          "state": {
            "_model_module": "@jupyter-widgets/controls",
            "_model_module_version": "1.5.0",
            "_model_name": "ProgressStyleModel",
            "_view_count": null,
            "_view_module": "@jupyter-widgets/base",
            "_view_module_version": "1.2.0",
            "_view_name": "StyleView",
            "bar_color": null,
            "description_width": ""
          }
        },
        "64f2c4f2d48d4009b6372e147f9d7fe5": {
          "model_module": "@jupyter-widgets/base",
          "model_name": "LayoutModel",
          "model_module_version": "1.2.0",
          "state": {
            "_model_module": "@jupyter-widgets/base",
            "_model_module_version": "1.2.0",
            "_model_name": "LayoutModel",
            "_view_count": null,
            "_view_module": "@jupyter-widgets/base",
            "_view_module_version": "1.2.0",
            "_view_name": "LayoutView",
            "align_content": null,
            "align_items": null,
            "align_self": null,
            "border": null,
            "bottom": null,
            "display": null,
            "flex": null,
            "flex_flow": null,
            "grid_area": null,
            "grid_auto_columns": null,
            "grid_auto_flow": null,
            "grid_auto_rows": null,
            "grid_column": null,
            "grid_gap": null,
            "grid_row": null,
            "grid_template_areas": null,
            "grid_template_columns": null,
            "grid_template_rows": null,
            "height": null,
            "justify_content": null,
            "justify_items": null,
            "left": null,
            "margin": null,
            "max_height": null,
            "max_width": null,
            "min_height": null,
            "min_width": null,
            "object_fit": null,
            "object_position": null,
            "order": null,
            "overflow": null,
            "overflow_x": null,
            "overflow_y": null,
            "padding": null,
            "right": null,
            "top": null,
            "visibility": null,
            "width": null
          }
        },
        "411c2a425cde4790845fb5ce1777b088": {
          "model_module": "@jupyter-widgets/controls",
          "model_name": "DescriptionStyleModel",
          "model_module_version": "1.5.0",
          "state": {
            "_model_module": "@jupyter-widgets/controls",
            "_model_module_version": "1.5.0",
            "_model_name": "DescriptionStyleModel",
            "_view_count": null,
            "_view_module": "@jupyter-widgets/base",
            "_view_module_version": "1.2.0",
            "_view_name": "StyleView",
            "description_width": ""
          }
        },
        "bf7902e168ac41b59c745ca7257cafde": {
          "model_module": "@jupyter-widgets/controls",
          "model_name": "HBoxModel",
          "model_module_version": "1.5.0",
          "state": {
            "_dom_classes": [],
            "_model_module": "@jupyter-widgets/controls",
            "_model_module_version": "1.5.0",
            "_model_name": "HBoxModel",
            "_view_count": null,
            "_view_module": "@jupyter-widgets/controls",
            "_view_module_version": "1.5.0",
            "_view_name": "HBoxView",
            "box_style": "",
            "children": [
              "IPY_MODEL_0459beadf80247e2969f6534822a8019",
              "IPY_MODEL_71bdd4ca979a425f961a0e136a7c779f",
              "IPY_MODEL_624cc4c0f5134c5daf8e61c5a446d6c3"
            ],
            "layout": "IPY_MODEL_35a35ad012b446389fdfc56e8cd8890e"
          }
        },
        "0459beadf80247e2969f6534822a8019": {
          "model_module": "@jupyter-widgets/controls",
          "model_name": "HTMLModel",
          "model_module_version": "1.5.0",
          "state": {
            "_dom_classes": [],
            "_model_module": "@jupyter-widgets/controls",
            "_model_module_version": "1.5.0",
            "_model_name": "HTMLModel",
            "_view_count": null,
            "_view_module": "@jupyter-widgets/controls",
            "_view_module_version": "1.5.0",
            "_view_name": "HTMLView",
            "description": "",
            "description_tooltip": null,
            "layout": "IPY_MODEL_13469001d1b5485183f3d176740a2c5b",
            "placeholder": "​",
            "style": "IPY_MODEL_db9d32e2c1f543ea9cfedb77108dfc6f",
            "value": "100%"
          }
        },
        "71bdd4ca979a425f961a0e136a7c779f": {
          "model_module": "@jupyter-widgets/controls",
          "model_name": "FloatProgressModel",
          "model_module_version": "1.5.0",
          "state": {
            "_dom_classes": [],
            "_model_module": "@jupyter-widgets/controls",
            "_model_module_version": "1.5.0",
            "_model_name": "FloatProgressModel",
            "_view_count": null,
            "_view_module": "@jupyter-widgets/controls",
            "_view_module_version": "1.5.0",
            "_view_name": "ProgressView",
            "bar_style": "success",
            "description": "",
            "description_tooltip": null,
            "layout": "IPY_MODEL_241c09ba76224cf69d8f3562077e61d5",
            "max": 91,
            "min": 0,
            "orientation": "horizontal",
            "style": "IPY_MODEL_6f0c76ad4a2a44b8801b39fe2d6097cc",
            "value": 91
          }
        },
        "624cc4c0f5134c5daf8e61c5a446d6c3": {
          "model_module": "@jupyter-widgets/controls",
          "model_name": "HTMLModel",
          "model_module_version": "1.5.0",
          "state": {
            "_dom_classes": [],
            "_model_module": "@jupyter-widgets/controls",
            "_model_module_version": "1.5.0",
            "_model_name": "HTMLModel",
            "_view_count": null,
            "_view_module": "@jupyter-widgets/controls",
            "_view_module_version": "1.5.0",
            "_view_name": "HTMLView",
            "description": "",
            "description_tooltip": null,
            "layout": "IPY_MODEL_b5a77f94cad24470b9067f62d2c3d6e9",
            "placeholder": "​",
            "style": "IPY_MODEL_f69caf4dbbd94e918bdb13940558c869",
            "value": " 91/91 [02:06&lt;00:00,  1.29s/it]"
          }
        },
        "35a35ad012b446389fdfc56e8cd8890e": {
          "model_module": "@jupyter-widgets/base",
          "model_name": "LayoutModel",
          "model_module_version": "1.2.0",
          "state": {
            "_model_module": "@jupyter-widgets/base",
            "_model_module_version": "1.2.0",
            "_model_name": "LayoutModel",
            "_view_count": null,
            "_view_module": "@jupyter-widgets/base",
            "_view_module_version": "1.2.0",
            "_view_name": "LayoutView",
            "align_content": null,
            "align_items": null,
            "align_self": null,
            "border": null,
            "bottom": null,
            "display": null,
            "flex": null,
            "flex_flow": null,
            "grid_area": null,
            "grid_auto_columns": null,
            "grid_auto_flow": null,
            "grid_auto_rows": null,
            "grid_column": null,
            "grid_gap": null,
            "grid_row": null,
            "grid_template_areas": null,
            "grid_template_columns": null,
            "grid_template_rows": null,
            "height": null,
            "justify_content": null,
            "justify_items": null,
            "left": null,
            "margin": null,
            "max_height": null,
            "max_width": null,
            "min_height": null,
            "min_width": null,
            "object_fit": null,
            "object_position": null,
            "order": null,
            "overflow": null,
            "overflow_x": null,
            "overflow_y": null,
            "padding": null,
            "right": null,
            "top": null,
            "visibility": null,
            "width": null
          }
        },
        "13469001d1b5485183f3d176740a2c5b": {
          "model_module": "@jupyter-widgets/base",
          "model_name": "LayoutModel",
          "model_module_version": "1.2.0",
          "state": {
            "_model_module": "@jupyter-widgets/base",
            "_model_module_version": "1.2.0",
            "_model_name": "LayoutModel",
            "_view_count": null,
            "_view_module": "@jupyter-widgets/base",
            "_view_module_version": "1.2.0",
            "_view_name": "LayoutView",
            "align_content": null,
            "align_items": null,
            "align_self": null,
            "border": null,
            "bottom": null,
            "display": null,
            "flex": null,
            "flex_flow": null,
            "grid_area": null,
            "grid_auto_columns": null,
            "grid_auto_flow": null,
            "grid_auto_rows": null,
            "grid_column": null,
            "grid_gap": null,
            "grid_row": null,
            "grid_template_areas": null,
            "grid_template_columns": null,
            "grid_template_rows": null,
            "height": null,
            "justify_content": null,
            "justify_items": null,
            "left": null,
            "margin": null,
            "max_height": null,
            "max_width": null,
            "min_height": null,
            "min_width": null,
            "object_fit": null,
            "object_position": null,
            "order": null,
            "overflow": null,
            "overflow_x": null,
            "overflow_y": null,
            "padding": null,
            "right": null,
            "top": null,
            "visibility": null,
            "width": null
          }
        },
        "db9d32e2c1f543ea9cfedb77108dfc6f": {
          "model_module": "@jupyter-widgets/controls",
          "model_name": "DescriptionStyleModel",
          "model_module_version": "1.5.0",
          "state": {
            "_model_module": "@jupyter-widgets/controls",
            "_model_module_version": "1.5.0",
            "_model_name": "DescriptionStyleModel",
            "_view_count": null,
            "_view_module": "@jupyter-widgets/base",
            "_view_module_version": "1.2.0",
            "_view_name": "StyleView",
            "description_width": ""
          }
        },
        "241c09ba76224cf69d8f3562077e61d5": {
          "model_module": "@jupyter-widgets/base",
          "model_name": "LayoutModel",
          "model_module_version": "1.2.0",
          "state": {
            "_model_module": "@jupyter-widgets/base",
            "_model_module_version": "1.2.0",
            "_model_name": "LayoutModel",
            "_view_count": null,
            "_view_module": "@jupyter-widgets/base",
            "_view_module_version": "1.2.0",
            "_view_name": "LayoutView",
            "align_content": null,
            "align_items": null,
            "align_self": null,
            "border": null,
            "bottom": null,
            "display": null,
            "flex": null,
            "flex_flow": null,
            "grid_area": null,
            "grid_auto_columns": null,
            "grid_auto_flow": null,
            "grid_auto_rows": null,
            "grid_column": null,
            "grid_gap": null,
            "grid_row": null,
            "grid_template_areas": null,
            "grid_template_columns": null,
            "grid_template_rows": null,
            "height": null,
            "justify_content": null,
            "justify_items": null,
            "left": null,
            "margin": null,
            "max_height": null,
            "max_width": null,
            "min_height": null,
            "min_width": null,
            "object_fit": null,
            "object_position": null,
            "order": null,
            "overflow": null,
            "overflow_x": null,
            "overflow_y": null,
            "padding": null,
            "right": null,
            "top": null,
            "visibility": null,
            "width": null
          }
        },
        "6f0c76ad4a2a44b8801b39fe2d6097cc": {
          "model_module": "@jupyter-widgets/controls",
          "model_name": "ProgressStyleModel",
          "model_module_version": "1.5.0",
          "state": {
            "_model_module": "@jupyter-widgets/controls",
            "_model_module_version": "1.5.0",
            "_model_name": "ProgressStyleModel",
            "_view_count": null,
            "_view_module": "@jupyter-widgets/base",
            "_view_module_version": "1.2.0",
            "_view_name": "StyleView",
            "bar_color": null,
            "description_width": ""
          }
        },
        "b5a77f94cad24470b9067f62d2c3d6e9": {
          "model_module": "@jupyter-widgets/base",
          "model_name": "LayoutModel",
          "model_module_version": "1.2.0",
          "state": {
            "_model_module": "@jupyter-widgets/base",
            "_model_module_version": "1.2.0",
            "_model_name": "LayoutModel",
            "_view_count": null,
            "_view_module": "@jupyter-widgets/base",
            "_view_module_version": "1.2.0",
            "_view_name": "LayoutView",
            "align_content": null,
            "align_items": null,
            "align_self": null,
            "border": null,
            "bottom": null,
            "display": null,
            "flex": null,
            "flex_flow": null,
            "grid_area": null,
            "grid_auto_columns": null,
            "grid_auto_flow": null,
            "grid_auto_rows": null,
            "grid_column": null,
            "grid_gap": null,
            "grid_row": null,
            "grid_template_areas": null,
            "grid_template_columns": null,
            "grid_template_rows": null,
            "height": null,
            "justify_content": null,
            "justify_items": null,
            "left": null,
            "margin": null,
            "max_height": null,
            "max_width": null,
            "min_height": null,
            "min_width": null,
            "object_fit": null,
            "object_position": null,
            "order": null,
            "overflow": null,
            "overflow_x": null,
            "overflow_y": null,
            "padding": null,
            "right": null,
            "top": null,
            "visibility": null,
            "width": null
          }
        },
        "f69caf4dbbd94e918bdb13940558c869": {
          "model_module": "@jupyter-widgets/controls",
          "model_name": "DescriptionStyleModel",
          "model_module_version": "1.5.0",
          "state": {
            "_model_module": "@jupyter-widgets/controls",
            "_model_module_version": "1.5.0",
            "_model_name": "DescriptionStyleModel",
            "_view_count": null,
            "_view_module": "@jupyter-widgets/base",
            "_view_module_version": "1.2.0",
            "_view_name": "StyleView",
            "description_width": ""
          }
        },
        "5d5e4557c00d4bf28f53e054e52c1a96": {
          "model_module": "@jupyter-widgets/controls",
          "model_name": "HBoxModel",
          "model_module_version": "1.5.0",
          "state": {
            "_dom_classes": [],
            "_model_module": "@jupyter-widgets/controls",
            "_model_module_version": "1.5.0",
            "_model_name": "HBoxModel",
            "_view_count": null,
            "_view_module": "@jupyter-widgets/controls",
            "_view_module_version": "1.5.0",
            "_view_name": "HBoxView",
            "box_style": "",
            "children": [
              "IPY_MODEL_f25d03a5faa24fc7a8cc1db6441c04ec",
              "IPY_MODEL_4a52e40a296444c594d3e5cd06535920",
              "IPY_MODEL_7b43982ac8564e6ba4bbb5aea302a2ff"
            ],
            "layout": "IPY_MODEL_389b89fe305547e5a0ac79c11d88b76c"
          }
        },
        "f25d03a5faa24fc7a8cc1db6441c04ec": {
          "model_module": "@jupyter-widgets/controls",
          "model_name": "HTMLModel",
          "model_module_version": "1.5.0",
          "state": {
            "_dom_classes": [],
            "_model_module": "@jupyter-widgets/controls",
            "_model_module_version": "1.5.0",
            "_model_name": "HTMLModel",
            "_view_count": null,
            "_view_module": "@jupyter-widgets/controls",
            "_view_module_version": "1.5.0",
            "_view_name": "HTMLView",
            "description": "",
            "description_tooltip": null,
            "layout": "IPY_MODEL_a06f34cef08242e5b7eb34f391090d28",
            "placeholder": "​",
            "style": "IPY_MODEL_e9b5972f48f54788b53b382f5b4459a4",
            "value": "100%"
          }
        },
        "4a52e40a296444c594d3e5cd06535920": {
          "model_module": "@jupyter-widgets/controls",
          "model_name": "FloatProgressModel",
          "model_module_version": "1.5.0",
          "state": {
            "_dom_classes": [],
            "_model_module": "@jupyter-widgets/controls",
            "_model_module_version": "1.5.0",
            "_model_name": "FloatProgressModel",
            "_view_count": null,
            "_view_module": "@jupyter-widgets/controls",
            "_view_module_version": "1.5.0",
            "_view_name": "ProgressView",
            "bar_style": "success",
            "description": "",
            "description_tooltip": null,
            "layout": "IPY_MODEL_05b1d47156b447dc89bd4bb0f3158244",
            "max": 90,
            "min": 0,
            "orientation": "horizontal",
            "style": "IPY_MODEL_761dce26062a483292b65df02c2750d5",
            "value": 90
          }
        },
        "7b43982ac8564e6ba4bbb5aea302a2ff": {
          "model_module": "@jupyter-widgets/controls",
          "model_name": "HTMLModel",
          "model_module_version": "1.5.0",
          "state": {
            "_dom_classes": [],
            "_model_module": "@jupyter-widgets/controls",
            "_model_module_version": "1.5.0",
            "_model_name": "HTMLModel",
            "_view_count": null,
            "_view_module": "@jupyter-widgets/controls",
            "_view_module_version": "1.5.0",
            "_view_name": "HTMLView",
            "description": "",
            "description_tooltip": null,
            "layout": "IPY_MODEL_31010160bee5428c84b1ca7689bb59a4",
            "placeholder": "​",
            "style": "IPY_MODEL_001cfbc2041a4d7993075791f34b1399",
            "value": " 90/90 [05:43&lt;00:00,  4.43s/it]"
          }
        },
        "389b89fe305547e5a0ac79c11d88b76c": {
          "model_module": "@jupyter-widgets/base",
          "model_name": "LayoutModel",
          "model_module_version": "1.2.0",
          "state": {
            "_model_module": "@jupyter-widgets/base",
            "_model_module_version": "1.2.0",
            "_model_name": "LayoutModel",
            "_view_count": null,
            "_view_module": "@jupyter-widgets/base",
            "_view_module_version": "1.2.0",
            "_view_name": "LayoutView",
            "align_content": null,
            "align_items": null,
            "align_self": null,
            "border": null,
            "bottom": null,
            "display": null,
            "flex": null,
            "flex_flow": null,
            "grid_area": null,
            "grid_auto_columns": null,
            "grid_auto_flow": null,
            "grid_auto_rows": null,
            "grid_column": null,
            "grid_gap": null,
            "grid_row": null,
            "grid_template_areas": null,
            "grid_template_columns": null,
            "grid_template_rows": null,
            "height": null,
            "justify_content": null,
            "justify_items": null,
            "left": null,
            "margin": null,
            "max_height": null,
            "max_width": null,
            "min_height": null,
            "min_width": null,
            "object_fit": null,
            "object_position": null,
            "order": null,
            "overflow": null,
            "overflow_x": null,
            "overflow_y": null,
            "padding": null,
            "right": null,
            "top": null,
            "visibility": null,
            "width": null
          }
        },
        "a06f34cef08242e5b7eb34f391090d28": {
          "model_module": "@jupyter-widgets/base",
          "model_name": "LayoutModel",
          "model_module_version": "1.2.0",
          "state": {
            "_model_module": "@jupyter-widgets/base",
            "_model_module_version": "1.2.0",
            "_model_name": "LayoutModel",
            "_view_count": null,
            "_view_module": "@jupyter-widgets/base",
            "_view_module_version": "1.2.0",
            "_view_name": "LayoutView",
            "align_content": null,
            "align_items": null,
            "align_self": null,
            "border": null,
            "bottom": null,
            "display": null,
            "flex": null,
            "flex_flow": null,
            "grid_area": null,
            "grid_auto_columns": null,
            "grid_auto_flow": null,
            "grid_auto_rows": null,
            "grid_column": null,
            "grid_gap": null,
            "grid_row": null,
            "grid_template_areas": null,
            "grid_template_columns": null,
            "grid_template_rows": null,
            "height": null,
            "justify_content": null,
            "justify_items": null,
            "left": null,
            "margin": null,
            "max_height": null,
            "max_width": null,
            "min_height": null,
            "min_width": null,
            "object_fit": null,
            "object_position": null,
            "order": null,
            "overflow": null,
            "overflow_x": null,
            "overflow_y": null,
            "padding": null,
            "right": null,
            "top": null,
            "visibility": null,
            "width": null
          }
        },
        "e9b5972f48f54788b53b382f5b4459a4": {
          "model_module": "@jupyter-widgets/controls",
          "model_name": "DescriptionStyleModel",
          "model_module_version": "1.5.0",
          "state": {
            "_model_module": "@jupyter-widgets/controls",
            "_model_module_version": "1.5.0",
            "_model_name": "DescriptionStyleModel",
            "_view_count": null,
            "_view_module": "@jupyter-widgets/base",
            "_view_module_version": "1.2.0",
            "_view_name": "StyleView",
            "description_width": ""
          }
        },
        "05b1d47156b447dc89bd4bb0f3158244": {
          "model_module": "@jupyter-widgets/base",
          "model_name": "LayoutModel",
          "model_module_version": "1.2.0",
          "state": {
            "_model_module": "@jupyter-widgets/base",
            "_model_module_version": "1.2.0",
            "_model_name": "LayoutModel",
            "_view_count": null,
            "_view_module": "@jupyter-widgets/base",
            "_view_module_version": "1.2.0",
            "_view_name": "LayoutView",
            "align_content": null,
            "align_items": null,
            "align_self": null,
            "border": null,
            "bottom": null,
            "display": null,
            "flex": null,
            "flex_flow": null,
            "grid_area": null,
            "grid_auto_columns": null,
            "grid_auto_flow": null,
            "grid_auto_rows": null,
            "grid_column": null,
            "grid_gap": null,
            "grid_row": null,
            "grid_template_areas": null,
            "grid_template_columns": null,
            "grid_template_rows": null,
            "height": null,
            "justify_content": null,
            "justify_items": null,
            "left": null,
            "margin": null,
            "max_height": null,
            "max_width": null,
            "min_height": null,
            "min_width": null,
            "object_fit": null,
            "object_position": null,
            "order": null,
            "overflow": null,
            "overflow_x": null,
            "overflow_y": null,
            "padding": null,
            "right": null,
            "top": null,
            "visibility": null,
            "width": null
          }
        },
        "761dce26062a483292b65df02c2750d5": {
          "model_module": "@jupyter-widgets/controls",
          "model_name": "ProgressStyleModel",
          "model_module_version": "1.5.0",
          "state": {
            "_model_module": "@jupyter-widgets/controls",
            "_model_module_version": "1.5.0",
            "_model_name": "ProgressStyleModel",
            "_view_count": null,
            "_view_module": "@jupyter-widgets/base",
            "_view_module_version": "1.2.0",
            "_view_name": "StyleView",
            "bar_color": null,
            "description_width": ""
          }
        },
        "31010160bee5428c84b1ca7689bb59a4": {
          "model_module": "@jupyter-widgets/base",
          "model_name": "LayoutModel",
          "model_module_version": "1.2.0",
          "state": {
            "_model_module": "@jupyter-widgets/base",
            "_model_module_version": "1.2.0",
            "_model_name": "LayoutModel",
            "_view_count": null,
            "_view_module": "@jupyter-widgets/base",
            "_view_module_version": "1.2.0",
            "_view_name": "LayoutView",
            "align_content": null,
            "align_items": null,
            "align_self": null,
            "border": null,
            "bottom": null,
            "display": null,
            "flex": null,
            "flex_flow": null,
            "grid_area": null,
            "grid_auto_columns": null,
            "grid_auto_flow": null,
            "grid_auto_rows": null,
            "grid_column": null,
            "grid_gap": null,
            "grid_row": null,
            "grid_template_areas": null,
            "grid_template_columns": null,
            "grid_template_rows": null,
            "height": null,
            "justify_content": null,
            "justify_items": null,
            "left": null,
            "margin": null,
            "max_height": null,
            "max_width": null,
            "min_height": null,
            "min_width": null,
            "object_fit": null,
            "object_position": null,
            "order": null,
            "overflow": null,
            "overflow_x": null,
            "overflow_y": null,
            "padding": null,
            "right": null,
            "top": null,
            "visibility": null,
            "width": null
          }
        },
        "001cfbc2041a4d7993075791f34b1399": {
          "model_module": "@jupyter-widgets/controls",
          "model_name": "DescriptionStyleModel",
          "model_module_version": "1.5.0",
          "state": {
            "_model_module": "@jupyter-widgets/controls",
            "_model_module_version": "1.5.0",
            "_model_name": "DescriptionStyleModel",
            "_view_count": null,
            "_view_module": "@jupyter-widgets/base",
            "_view_module_version": "1.2.0",
            "_view_name": "StyleView",
            "description_width": ""
          }
        }
      }
    }
  },
  "cells": [
    {
      "cell_type": "code",
      "execution_count": 52,
      "metadata": {
        "colab": {
          "base_uri": "https://localhost:8080/"
        },
        "id": "_ZB3mm6f0Dko",
        "outputId": "f0980939-aca5-4507-c588-bdd21f954313"
      },
      "outputs": [
        {
          "output_type": "stream",
          "name": "stdout",
          "text": [
            "Drive already mounted at /content/drive; to attempt to forcibly remount, call drive.mount(\"/content/drive\", force_remount=True).\n"
          ]
        }
      ],
      "source": [
        "# prompt: code for ingesting data from google drive\n",
        "\n",
        "from google.colab import drive\n",
        "\n",
        "# Mount your Google Drive to access files\n",
        "drive.mount('/content/drive')"
      ]
    },
    {
      "cell_type": "code",
      "source": [
        "import json\n",
        "from pathlib import Path\n",
        "from pprint import pprint\n",
        "\n",
        "\n",
        "file_path = '/content/drive/MyDrive/News Article/random_articles.json'\n",
        "data = json.loads(Path(file_path).read_text())"
      ],
      "metadata": {
        "colab": {
          "base_uri": "https://localhost:8080/",
          "height": 304
        },
        "id": "4gD_ItIU4A63",
        "outputId": "c11e8c36-df77-47ac-df50-a2cd38e7c7f7"
      },
      "execution_count": 53,
      "outputs": [
        {
          "output_type": "error",
          "ename": "JSONDecodeError",
          "evalue": "Expecting value: line 1 column 1 (char 0)",
          "traceback": [
            "\u001b[0;31m---------------------------------------------------------------------------\u001b[0m",
            "\u001b[0;31mJSONDecodeError\u001b[0m                           Traceback (most recent call last)",
            "\u001b[0;32m<ipython-input-53-f776e32cc220>\u001b[0m in \u001b[0;36m<cell line: 7>\u001b[0;34m()\u001b[0m\n\u001b[1;32m      5\u001b[0m \u001b[0;34m\u001b[0m\u001b[0m\n\u001b[1;32m      6\u001b[0m \u001b[0mfile_path\u001b[0m \u001b[0;34m=\u001b[0m \u001b[0;34m'/content/drive/MyDrive/News Article/random_articles.json'\u001b[0m\u001b[0;34m\u001b[0m\u001b[0;34m\u001b[0m\u001b[0m\n\u001b[0;32m----> 7\u001b[0;31m \u001b[0mdata\u001b[0m \u001b[0;34m=\u001b[0m \u001b[0mjson\u001b[0m\u001b[0;34m.\u001b[0m\u001b[0mloads\u001b[0m\u001b[0;34m(\u001b[0m\u001b[0mPath\u001b[0m\u001b[0;34m(\u001b[0m\u001b[0mfile_path\u001b[0m\u001b[0;34m)\u001b[0m\u001b[0;34m.\u001b[0m\u001b[0mread_text\u001b[0m\u001b[0;34m(\u001b[0m\u001b[0;34m)\u001b[0m\u001b[0;34m)\u001b[0m\u001b[0;34m\u001b[0m\u001b[0;34m\u001b[0m\u001b[0m\n\u001b[0m",
            "\u001b[0;32m/usr/lib/python3.10/json/__init__.py\u001b[0m in \u001b[0;36mloads\u001b[0;34m(s, cls, object_hook, parse_float, parse_int, parse_constant, object_pairs_hook, **kw)\u001b[0m\n\u001b[1;32m    344\u001b[0m             \u001b[0mparse_int\u001b[0m \u001b[0;32mis\u001b[0m \u001b[0;32mNone\u001b[0m \u001b[0;32mand\u001b[0m \u001b[0mparse_float\u001b[0m \u001b[0;32mis\u001b[0m \u001b[0;32mNone\u001b[0m \u001b[0;32mand\u001b[0m\u001b[0;34m\u001b[0m\u001b[0;34m\u001b[0m\u001b[0m\n\u001b[1;32m    345\u001b[0m             parse_constant is None and object_pairs_hook is None and not kw):\n\u001b[0;32m--> 346\u001b[0;31m         \u001b[0;32mreturn\u001b[0m \u001b[0m_default_decoder\u001b[0m\u001b[0;34m.\u001b[0m\u001b[0mdecode\u001b[0m\u001b[0;34m(\u001b[0m\u001b[0ms\u001b[0m\u001b[0;34m)\u001b[0m\u001b[0;34m\u001b[0m\u001b[0;34m\u001b[0m\u001b[0m\n\u001b[0m\u001b[1;32m    347\u001b[0m     \u001b[0;32mif\u001b[0m \u001b[0mcls\u001b[0m \u001b[0;32mis\u001b[0m \u001b[0;32mNone\u001b[0m\u001b[0;34m:\u001b[0m\u001b[0;34m\u001b[0m\u001b[0;34m\u001b[0m\u001b[0m\n\u001b[1;32m    348\u001b[0m         \u001b[0mcls\u001b[0m \u001b[0;34m=\u001b[0m \u001b[0mJSONDecoder\u001b[0m\u001b[0;34m\u001b[0m\u001b[0;34m\u001b[0m\u001b[0m\n",
            "\u001b[0;32m/usr/lib/python3.10/json/decoder.py\u001b[0m in \u001b[0;36mdecode\u001b[0;34m(self, s, _w)\u001b[0m\n\u001b[1;32m    335\u001b[0m \u001b[0;34m\u001b[0m\u001b[0m\n\u001b[1;32m    336\u001b[0m         \"\"\"\n\u001b[0;32m--> 337\u001b[0;31m         \u001b[0mobj\u001b[0m\u001b[0;34m,\u001b[0m \u001b[0mend\u001b[0m \u001b[0;34m=\u001b[0m \u001b[0mself\u001b[0m\u001b[0;34m.\u001b[0m\u001b[0mraw_decode\u001b[0m\u001b[0;34m(\u001b[0m\u001b[0ms\u001b[0m\u001b[0;34m,\u001b[0m \u001b[0midx\u001b[0m\u001b[0;34m=\u001b[0m\u001b[0m_w\u001b[0m\u001b[0;34m(\u001b[0m\u001b[0ms\u001b[0m\u001b[0;34m,\u001b[0m \u001b[0;36m0\u001b[0m\u001b[0;34m)\u001b[0m\u001b[0;34m.\u001b[0m\u001b[0mend\u001b[0m\u001b[0;34m(\u001b[0m\u001b[0;34m)\u001b[0m\u001b[0;34m)\u001b[0m\u001b[0;34m\u001b[0m\u001b[0;34m\u001b[0m\u001b[0m\n\u001b[0m\u001b[1;32m    338\u001b[0m         \u001b[0mend\u001b[0m \u001b[0;34m=\u001b[0m \u001b[0m_w\u001b[0m\u001b[0;34m(\u001b[0m\u001b[0ms\u001b[0m\u001b[0;34m,\u001b[0m \u001b[0mend\u001b[0m\u001b[0;34m)\u001b[0m\u001b[0;34m.\u001b[0m\u001b[0mend\u001b[0m\u001b[0;34m(\u001b[0m\u001b[0;34m)\u001b[0m\u001b[0;34m\u001b[0m\u001b[0;34m\u001b[0m\u001b[0m\n\u001b[1;32m    339\u001b[0m         \u001b[0;32mif\u001b[0m \u001b[0mend\u001b[0m \u001b[0;34m!=\u001b[0m \u001b[0mlen\u001b[0m\u001b[0;34m(\u001b[0m\u001b[0ms\u001b[0m\u001b[0;34m)\u001b[0m\u001b[0;34m:\u001b[0m\u001b[0;34m\u001b[0m\u001b[0;34m\u001b[0m\u001b[0m\n",
            "\u001b[0;32m/usr/lib/python3.10/json/decoder.py\u001b[0m in \u001b[0;36mraw_decode\u001b[0;34m(self, s, idx)\u001b[0m\n\u001b[1;32m    353\u001b[0m             \u001b[0mobj\u001b[0m\u001b[0;34m,\u001b[0m \u001b[0mend\u001b[0m \u001b[0;34m=\u001b[0m \u001b[0mself\u001b[0m\u001b[0;34m.\u001b[0m\u001b[0mscan_once\u001b[0m\u001b[0;34m(\u001b[0m\u001b[0ms\u001b[0m\u001b[0;34m,\u001b[0m \u001b[0midx\u001b[0m\u001b[0;34m)\u001b[0m\u001b[0;34m\u001b[0m\u001b[0;34m\u001b[0m\u001b[0m\n\u001b[1;32m    354\u001b[0m         \u001b[0;32mexcept\u001b[0m \u001b[0mStopIteration\u001b[0m \u001b[0;32mas\u001b[0m \u001b[0merr\u001b[0m\u001b[0;34m:\u001b[0m\u001b[0;34m\u001b[0m\u001b[0;34m\u001b[0m\u001b[0m\n\u001b[0;32m--> 355\u001b[0;31m             \u001b[0;32mraise\u001b[0m \u001b[0mJSONDecodeError\u001b[0m\u001b[0;34m(\u001b[0m\u001b[0;34m\"Expecting value\"\u001b[0m\u001b[0;34m,\u001b[0m \u001b[0ms\u001b[0m\u001b[0;34m,\u001b[0m \u001b[0merr\u001b[0m\u001b[0;34m.\u001b[0m\u001b[0mvalue\u001b[0m\u001b[0;34m)\u001b[0m \u001b[0;32mfrom\u001b[0m \u001b[0;32mNone\u001b[0m\u001b[0;34m\u001b[0m\u001b[0;34m\u001b[0m\u001b[0m\n\u001b[0m\u001b[1;32m    356\u001b[0m         \u001b[0;32mreturn\u001b[0m \u001b[0mobj\u001b[0m\u001b[0;34m,\u001b[0m \u001b[0mend\u001b[0m\u001b[0;34m\u001b[0m\u001b[0;34m\u001b[0m\u001b[0m\n",
            "\u001b[0;31mJSONDecodeError\u001b[0m: Expecting value: line 1 column 1 (char 0)"
          ]
        }
      ]
    },
    {
      "cell_type": "code",
      "source": [
        "pip install langchain_community langchain-huggingface datasets langchain_cohere"
      ],
      "metadata": {
        "colab": {
          "base_uri": "https://localhost:8080/"
        },
        "id": "5106i0sfGWrv",
        "outputId": "906b4036-2b55-4a0a-bfbf-cc81f1b75c8a"
      },
      "execution_count": 2,
      "outputs": [
        {
          "output_type": "stream",
          "name": "stdout",
          "text": [
            "Collecting langchain_community\n",
            "  Downloading langchain_community-0.2.5-py3-none-any.whl (2.2 MB)\n",
            "\u001b[2K     \u001b[90m━━━━━━━━━━━━━━━━━━━━━━━━━━━━━━━━━━━━━━━━\u001b[0m \u001b[32m2.2/2.2 MB\u001b[0m \u001b[31m18.0 MB/s\u001b[0m eta \u001b[36m0:00:00\u001b[0m\n",
            "\u001b[?25hCollecting langchain-huggingface\n",
            "  Downloading langchain_huggingface-0.0.3-py3-none-any.whl (17 kB)\n",
            "Collecting datasets\n",
            "  Downloading datasets-2.20.0-py3-none-any.whl (547 kB)\n",
            "\u001b[2K     \u001b[90m━━━━━━━━━━━━━━━━━━━━━━━━━━━━━━━━━━━━━━━━\u001b[0m \u001b[32m547.8/547.8 kB\u001b[0m \u001b[31m20.7 MB/s\u001b[0m eta \u001b[36m0:00:00\u001b[0m\n",
            "\u001b[?25hCollecting langchain_cohere\n",
            "  Downloading langchain_cohere-0.1.8-py3-none-any.whl (31 kB)\n",
            "Requirement already satisfied: PyYAML>=5.3 in /usr/local/lib/python3.10/dist-packages (from langchain_community) (6.0.1)\n",
            "Requirement already satisfied: SQLAlchemy<3,>=1.4 in /usr/local/lib/python3.10/dist-packages (from langchain_community) (2.0.30)\n",
            "Requirement already satisfied: aiohttp<4.0.0,>=3.8.3 in /usr/local/lib/python3.10/dist-packages (from langchain_community) (3.9.5)\n",
            "Collecting dataclasses-json<0.7,>=0.5.7 (from langchain_community)\n",
            "  Downloading dataclasses_json-0.6.7-py3-none-any.whl (28 kB)\n",
            "Collecting langchain<0.3.0,>=0.2.5 (from langchain_community)\n",
            "  Downloading langchain-0.2.5-py3-none-any.whl (974 kB)\n",
            "\u001b[2K     \u001b[90m━━━━━━━━━━━━━━━━━━━━━━━━━━━━━━━━━━━━━━━━\u001b[0m \u001b[32m974.6/974.6 kB\u001b[0m \u001b[31m33.9 MB/s\u001b[0m eta \u001b[36m0:00:00\u001b[0m\n",
            "\u001b[?25hCollecting langchain-core<0.3.0,>=0.2.7 (from langchain_community)\n",
            "  Downloading langchain_core-0.2.9-py3-none-any.whl (321 kB)\n",
            "\u001b[2K     \u001b[90m━━━━━━━━━━━━━━━━━━━━━━━━━━━━━━━━━━━━━━━━\u001b[0m \u001b[32m321.8/321.8 kB\u001b[0m \u001b[31m12.4 MB/s\u001b[0m eta \u001b[36m0:00:00\u001b[0m\n",
            "\u001b[?25hCollecting langsmith<0.2.0,>=0.1.0 (from langchain_community)\n",
            "  Downloading langsmith-0.1.81-py3-none-any.whl (127 kB)\n",
            "\u001b[2K     \u001b[90m━━━━━━━━━━━━━━━━━━━━━━━━━━━━━━━━━━━━━━━━\u001b[0m \u001b[32m127.1/127.1 kB\u001b[0m \u001b[31m11.8 MB/s\u001b[0m eta \u001b[36m0:00:00\u001b[0m\n",
            "\u001b[?25hRequirement already satisfied: numpy<2,>=1 in /usr/local/lib/python3.10/dist-packages (from langchain_community) (1.25.2)\n",
            "Requirement already satisfied: requests<3,>=2 in /usr/local/lib/python3.10/dist-packages (from langchain_community) (2.31.0)\n",
            "Requirement already satisfied: tenacity<9.0.0,>=8.1.0 in /usr/local/lib/python3.10/dist-packages (from langchain_community) (8.4.1)\n",
            "Requirement already satisfied: huggingface-hub>=0.23.0 in /usr/local/lib/python3.10/dist-packages (from langchain-huggingface) (0.23.4)\n",
            "Collecting sentence-transformers>=2.6.0 (from langchain-huggingface)\n",
            "  Downloading sentence_transformers-3.0.1-py3-none-any.whl (227 kB)\n",
            "\u001b[2K     \u001b[90m━━━━━━━━━━━━━━━━━━━━━━━━━━━━━━━━━━━━━━━━\u001b[0m \u001b[32m227.1/227.1 kB\u001b[0m \u001b[31m21.3 MB/s\u001b[0m eta \u001b[36m0:00:00\u001b[0m\n",
            "\u001b[?25hRequirement already satisfied: tokenizers>=0.19.1 in /usr/local/lib/python3.10/dist-packages (from langchain-huggingface) (0.19.1)\n",
            "Requirement already satisfied: transformers>=4.39.0 in /usr/local/lib/python3.10/dist-packages (from langchain-huggingface) (4.41.2)\n",
            "Requirement already satisfied: filelock in /usr/local/lib/python3.10/dist-packages (from datasets) (3.15.1)\n",
            "Collecting pyarrow>=15.0.0 (from datasets)\n",
            "  Downloading pyarrow-16.1.0-cp310-cp310-manylinux_2_28_x86_64.whl (40.8 MB)\n",
            "\u001b[2K     \u001b[90m━━━━━━━━━━━━━━━━━━━━━━━━━━━━━━━━━━━━━━━━\u001b[0m \u001b[32m40.8/40.8 MB\u001b[0m \u001b[31m13.4 MB/s\u001b[0m eta \u001b[36m0:00:00\u001b[0m\n",
            "\u001b[?25hRequirement already satisfied: pyarrow-hotfix in /usr/local/lib/python3.10/dist-packages (from datasets) (0.6)\n",
            "Collecting dill<0.3.9,>=0.3.0 (from datasets)\n",
            "  Downloading dill-0.3.8-py3-none-any.whl (116 kB)\n",
            "\u001b[2K     \u001b[90m━━━━━━━━━━━━━━━━━━━━━━━━━━━━━━━━━━━━━━━━\u001b[0m \u001b[32m116.3/116.3 kB\u001b[0m \u001b[31m11.4 MB/s\u001b[0m eta \u001b[36m0:00:00\u001b[0m\n",
            "\u001b[?25hRequirement already satisfied: pandas in /usr/local/lib/python3.10/dist-packages (from datasets) (2.0.3)\n",
            "Collecting requests<3,>=2 (from langchain_community)\n",
            "  Downloading requests-2.32.3-py3-none-any.whl (64 kB)\n",
            "\u001b[2K     \u001b[90m━━━━━━━━━━━━━━━━━━━━━━━━━━━━━━━━━━━━━━━━\u001b[0m \u001b[32m64.9/64.9 kB\u001b[0m \u001b[31m7.4 MB/s\u001b[0m eta \u001b[36m0:00:00\u001b[0m\n",
            "\u001b[?25hRequirement already satisfied: tqdm>=4.66.3 in /usr/local/lib/python3.10/dist-packages (from datasets) (4.66.4)\n",
            "Collecting xxhash (from datasets)\n",
            "  Downloading xxhash-3.4.1-cp310-cp310-manylinux_2_17_x86_64.manylinux2014_x86_64.whl (194 kB)\n",
            "\u001b[2K     \u001b[90m━━━━━━━━━━━━━━━━━━━━━━━━━━━━━━━━━━━━━━━━\u001b[0m \u001b[32m194.1/194.1 kB\u001b[0m \u001b[31m19.0 MB/s\u001b[0m eta \u001b[36m0:00:00\u001b[0m\n",
            "\u001b[?25hCollecting multiprocess (from datasets)\n",
            "  Downloading multiprocess-0.70.16-py310-none-any.whl (134 kB)\n",
            "\u001b[2K     \u001b[90m━━━━━━━━━━━━━━━━━━━━━━━━━━━━━━━━━━━━━━━━\u001b[0m \u001b[32m134.8/134.8 kB\u001b[0m \u001b[31m9.7 MB/s\u001b[0m eta \u001b[36m0:00:00\u001b[0m\n",
            "\u001b[?25hRequirement already satisfied: fsspec[http]<=2024.5.0,>=2023.1.0 in /usr/local/lib/python3.10/dist-packages (from datasets) (2023.6.0)\n",
            "Requirement already satisfied: packaging in /usr/local/lib/python3.10/dist-packages (from datasets) (24.1)\n",
            "Collecting cohere<6.0,>=5.5.6 (from langchain_cohere)\n",
            "  Downloading cohere-5.5.8-py3-none-any.whl (173 kB)\n",
            "\u001b[2K     \u001b[90m━━━━━━━━━━━━━━━━━━━━━━━━━━━━━━━━━━━━━━━━\u001b[0m \u001b[32m173.8/173.8 kB\u001b[0m \u001b[31m15.4 MB/s\u001b[0m eta \u001b[36m0:00:00\u001b[0m\n",
            "\u001b[?25hRequirement already satisfied: aiosignal>=1.1.2 in /usr/local/lib/python3.10/dist-packages (from aiohttp<4.0.0,>=3.8.3->langchain_community) (1.3.1)\n",
            "Requirement already satisfied: attrs>=17.3.0 in /usr/local/lib/python3.10/dist-packages (from aiohttp<4.0.0,>=3.8.3->langchain_community) (23.2.0)\n",
            "Requirement already satisfied: frozenlist>=1.1.1 in /usr/local/lib/python3.10/dist-packages (from aiohttp<4.0.0,>=3.8.3->langchain_community) (1.4.1)\n",
            "Requirement already satisfied: multidict<7.0,>=4.5 in /usr/local/lib/python3.10/dist-packages (from aiohttp<4.0.0,>=3.8.3->langchain_community) (6.0.5)\n",
            "Requirement already satisfied: yarl<2.0,>=1.0 in /usr/local/lib/python3.10/dist-packages (from aiohttp<4.0.0,>=3.8.3->langchain_community) (1.9.4)\n",
            "Requirement already satisfied: async-timeout<5.0,>=4.0 in /usr/local/lib/python3.10/dist-packages (from aiohttp<4.0.0,>=3.8.3->langchain_community) (4.0.3)\n",
            "Collecting boto3<2.0.0,>=1.34.0 (from cohere<6.0,>=5.5.6->langchain_cohere)\n",
            "  Downloading boto3-1.34.131-py3-none-any.whl (139 kB)\n",
            "\u001b[2K     \u001b[90m━━━━━━━━━━━━━━━━━━━━━━━━━━━━━━━━━━━━━━━━\u001b[0m \u001b[32m139.2/139.2 kB\u001b[0m \u001b[31m8.5 MB/s\u001b[0m eta \u001b[36m0:00:00\u001b[0m\n",
            "\u001b[?25hCollecting fastavro<2.0.0,>=1.9.4 (from cohere<6.0,>=5.5.6->langchain_cohere)\n",
            "  Downloading fastavro-1.9.4-cp310-cp310-manylinux_2_17_x86_64.manylinux2014_x86_64.whl (3.1 MB)\n",
            "\u001b[2K     \u001b[90m━━━━━━━━━━━━━━━━━━━━━━━━━━━━━━━━━━━━━━━━\u001b[0m \u001b[32m3.1/3.1 MB\u001b[0m \u001b[31m39.4 MB/s\u001b[0m eta \u001b[36m0:00:00\u001b[0m\n",
            "\u001b[?25hCollecting httpx>=0.21.2 (from cohere<6.0,>=5.5.6->langchain_cohere)\n",
            "  Downloading httpx-0.27.0-py3-none-any.whl (75 kB)\n",
            "\u001b[2K     \u001b[90m━━━━━━━━━━━━━━━━━━━━━━━━━━━━━━━━━━━━━━━━\u001b[0m \u001b[32m75.6/75.6 kB\u001b[0m \u001b[31m5.8 MB/s\u001b[0m eta \u001b[36m0:00:00\u001b[0m\n",
            "\u001b[?25hCollecting httpx-sse<0.5.0,>=0.4.0 (from cohere<6.0,>=5.5.6->langchain_cohere)\n",
            "  Downloading httpx_sse-0.4.0-py3-none-any.whl (7.8 kB)\n",
            "Collecting parameterized<0.10.0,>=0.9.0 (from cohere<6.0,>=5.5.6->langchain_cohere)\n",
            "  Downloading parameterized-0.9.0-py2.py3-none-any.whl (20 kB)\n",
            "Requirement already satisfied: pydantic>=1.9.2 in /usr/local/lib/python3.10/dist-packages (from cohere<6.0,>=5.5.6->langchain_cohere) (2.7.4)\n",
            "Collecting types-requests<3.0.0,>=2.0.0 (from cohere<6.0,>=5.5.6->langchain_cohere)\n",
            "  Downloading types_requests-2.32.0.20240622-py3-none-any.whl (15 kB)\n",
            "Requirement already satisfied: typing_extensions>=4.0.0 in /usr/local/lib/python3.10/dist-packages (from cohere<6.0,>=5.5.6->langchain_cohere) (4.12.2)\n",
            "Collecting marshmallow<4.0.0,>=3.18.0 (from dataclasses-json<0.7,>=0.5.7->langchain_community)\n",
            "  Downloading marshmallow-3.21.3-py3-none-any.whl (49 kB)\n",
            "\u001b[2K     \u001b[90m━━━━━━━━━━━━━━━━━━━━━━━━━━━━━━━━━━━━━━━━\u001b[0m \u001b[32m49.2/49.2 kB\u001b[0m \u001b[31m4.8 MB/s\u001b[0m eta \u001b[36m0:00:00\u001b[0m\n",
            "\u001b[?25hCollecting typing-inspect<1,>=0.4.0 (from dataclasses-json<0.7,>=0.5.7->langchain_community)\n",
            "  Downloading typing_inspect-0.9.0-py3-none-any.whl (8.8 kB)\n",
            "Collecting langchain-text-splitters<0.3.0,>=0.2.0 (from langchain<0.3.0,>=0.2.5->langchain_community)\n",
            "  Downloading langchain_text_splitters-0.2.1-py3-none-any.whl (23 kB)\n",
            "Collecting jsonpatch<2.0,>=1.33 (from langchain-core<0.3.0,>=0.2.7->langchain_community)\n",
            "  Downloading jsonpatch-1.33-py2.py3-none-any.whl (12 kB)\n",
            "Collecting orjson<4.0.0,>=3.9.14 (from langsmith<0.2.0,>=0.1.0->langchain_community)\n",
            "  Downloading orjson-3.10.5-cp310-cp310-manylinux_2_17_x86_64.manylinux2014_x86_64.whl (144 kB)\n",
            "\u001b[2K     \u001b[90m━━━━━━━━━━━━━━━━━━━━━━━━━━━━━━━━━━━━━━━━\u001b[0m \u001b[32m145.0/145.0 kB\u001b[0m \u001b[31m6.6 MB/s\u001b[0m eta \u001b[36m0:00:00\u001b[0m\n",
            "\u001b[?25hRequirement already satisfied: charset-normalizer<4,>=2 in /usr/local/lib/python3.10/dist-packages (from requests<3,>=2->langchain_community) (3.3.2)\n",
            "Requirement already satisfied: idna<4,>=2.5 in /usr/local/lib/python3.10/dist-packages (from requests<3,>=2->langchain_community) (3.7)\n",
            "Requirement already satisfied: urllib3<3,>=1.21.1 in /usr/local/lib/python3.10/dist-packages (from requests<3,>=2->langchain_community) (2.0.7)\n",
            "Requirement already satisfied: certifi>=2017.4.17 in /usr/local/lib/python3.10/dist-packages (from requests<3,>=2->langchain_community) (2024.6.2)\n",
            "Requirement already satisfied: torch>=1.11.0 in /usr/local/lib/python3.10/dist-packages (from sentence-transformers>=2.6.0->langchain-huggingface) (2.3.0+cu121)\n",
            "Requirement already satisfied: scikit-learn in /usr/local/lib/python3.10/dist-packages (from sentence-transformers>=2.6.0->langchain-huggingface) (1.2.2)\n",
            "Requirement already satisfied: scipy in /usr/local/lib/python3.10/dist-packages (from sentence-transformers>=2.6.0->langchain-huggingface) (1.11.4)\n",
            "Requirement already satisfied: Pillow in /usr/local/lib/python3.10/dist-packages (from sentence-transformers>=2.6.0->langchain-huggingface) (9.4.0)\n",
            "Requirement already satisfied: greenlet!=0.4.17 in /usr/local/lib/python3.10/dist-packages (from SQLAlchemy<3,>=1.4->langchain_community) (3.0.3)\n",
            "Requirement already satisfied: regex!=2019.12.17 in /usr/local/lib/python3.10/dist-packages (from transformers>=4.39.0->langchain-huggingface) (2024.5.15)\n",
            "Requirement already satisfied: safetensors>=0.4.1 in /usr/local/lib/python3.10/dist-packages (from transformers>=4.39.0->langchain-huggingface) (0.4.3)\n",
            "Requirement already satisfied: python-dateutil>=2.8.2 in /usr/local/lib/python3.10/dist-packages (from pandas->datasets) (2.8.2)\n",
            "Requirement already satisfied: pytz>=2020.1 in /usr/local/lib/python3.10/dist-packages (from pandas->datasets) (2023.4)\n",
            "Requirement already satisfied: tzdata>=2022.1 in /usr/local/lib/python3.10/dist-packages (from pandas->datasets) (2024.1)\n",
            "Collecting botocore<1.35.0,>=1.34.131 (from boto3<2.0.0,>=1.34.0->cohere<6.0,>=5.5.6->langchain_cohere)\n",
            "  Downloading botocore-1.34.131-py3-none-any.whl (12.3 MB)\n",
            "\u001b[2K     \u001b[90m━━━━━━━━━━━━━━━━━━━━━━━━━━━━━━━━━━━━━━━━\u001b[0m \u001b[32m12.3/12.3 MB\u001b[0m \u001b[31m71.3 MB/s\u001b[0m eta \u001b[36m0:00:00\u001b[0m\n",
            "\u001b[?25hCollecting jmespath<2.0.0,>=0.7.1 (from boto3<2.0.0,>=1.34.0->cohere<6.0,>=5.5.6->langchain_cohere)\n",
            "  Downloading jmespath-1.0.1-py3-none-any.whl (20 kB)\n",
            "Collecting s3transfer<0.11.0,>=0.10.0 (from boto3<2.0.0,>=1.34.0->cohere<6.0,>=5.5.6->langchain_cohere)\n",
            "  Downloading s3transfer-0.10.1-py3-none-any.whl (82 kB)\n",
            "\u001b[2K     \u001b[90m━━━━━━━━━━━━━━━━━━━━━━━━━━━━━━━━━━━━━━━━\u001b[0m \u001b[32m82.2/82.2 kB\u001b[0m \u001b[31m9.2 MB/s\u001b[0m eta \u001b[36m0:00:00\u001b[0m\n",
            "\u001b[?25hRequirement already satisfied: anyio in /usr/local/lib/python3.10/dist-packages (from httpx>=0.21.2->cohere<6.0,>=5.5.6->langchain_cohere) (3.7.1)\n",
            "Collecting httpcore==1.* (from httpx>=0.21.2->cohere<6.0,>=5.5.6->langchain_cohere)\n",
            "  Downloading httpcore-1.0.5-py3-none-any.whl (77 kB)\n",
            "\u001b[2K     \u001b[90m━━━━━━━━━━━━━━━━━━━━━━━━━━━━━━━━━━━━━━━━\u001b[0m \u001b[32m77.9/77.9 kB\u001b[0m \u001b[31m7.7 MB/s\u001b[0m eta \u001b[36m0:00:00\u001b[0m\n",
            "\u001b[?25hRequirement already satisfied: sniffio in /usr/local/lib/python3.10/dist-packages (from httpx>=0.21.2->cohere<6.0,>=5.5.6->langchain_cohere) (1.3.1)\n",
            "Collecting h11<0.15,>=0.13 (from httpcore==1.*->httpx>=0.21.2->cohere<6.0,>=5.5.6->langchain_cohere)\n",
            "  Downloading h11-0.14.0-py3-none-any.whl (58 kB)\n",
            "\u001b[2K     \u001b[90m━━━━━━━━━━━━━━━━━━━━━━━━━━━━━━━━━━━━━━━━\u001b[0m \u001b[32m58.3/58.3 kB\u001b[0m \u001b[31m6.5 MB/s\u001b[0m eta \u001b[36m0:00:00\u001b[0m\n",
            "\u001b[?25hCollecting jsonpointer>=1.9 (from jsonpatch<2.0,>=1.33->langchain-core<0.3.0,>=0.2.7->langchain_community)\n",
            "  Downloading jsonpointer-3.0.0-py2.py3-none-any.whl (7.6 kB)\n",
            "Requirement already satisfied: annotated-types>=0.4.0 in /usr/local/lib/python3.10/dist-packages (from pydantic>=1.9.2->cohere<6.0,>=5.5.6->langchain_cohere) (0.7.0)\n",
            "Requirement already satisfied: pydantic-core==2.18.4 in /usr/local/lib/python3.10/dist-packages (from pydantic>=1.9.2->cohere<6.0,>=5.5.6->langchain_cohere) (2.18.4)\n",
            "Requirement already satisfied: six>=1.5 in /usr/local/lib/python3.10/dist-packages (from python-dateutil>=2.8.2->pandas->datasets) (1.16.0)\n",
            "Requirement already satisfied: sympy in /usr/local/lib/python3.10/dist-packages (from torch>=1.11.0->sentence-transformers>=2.6.0->langchain-huggingface) (1.12.1)\n",
            "Requirement already satisfied: networkx in /usr/local/lib/python3.10/dist-packages (from torch>=1.11.0->sentence-transformers>=2.6.0->langchain-huggingface) (3.3)\n",
            "Requirement already satisfied: jinja2 in /usr/local/lib/python3.10/dist-packages (from torch>=1.11.0->sentence-transformers>=2.6.0->langchain-huggingface) (3.1.4)\n",
            "Collecting nvidia-cuda-nvrtc-cu12==12.1.105 (from torch>=1.11.0->sentence-transformers>=2.6.0->langchain-huggingface)\n",
            "  Using cached nvidia_cuda_nvrtc_cu12-12.1.105-py3-none-manylinux1_x86_64.whl (23.7 MB)\n",
            "Collecting nvidia-cuda-runtime-cu12==12.1.105 (from torch>=1.11.0->sentence-transformers>=2.6.0->langchain-huggingface)\n",
            "  Using cached nvidia_cuda_runtime_cu12-12.1.105-py3-none-manylinux1_x86_64.whl (823 kB)\n",
            "Collecting nvidia-cuda-cupti-cu12==12.1.105 (from torch>=1.11.0->sentence-transformers>=2.6.0->langchain-huggingface)\n",
            "  Using cached nvidia_cuda_cupti_cu12-12.1.105-py3-none-manylinux1_x86_64.whl (14.1 MB)\n",
            "Collecting nvidia-cudnn-cu12==8.9.2.26 (from torch>=1.11.0->sentence-transformers>=2.6.0->langchain-huggingface)\n",
            "  Using cached nvidia_cudnn_cu12-8.9.2.26-py3-none-manylinux1_x86_64.whl (731.7 MB)\n",
            "Collecting nvidia-cublas-cu12==12.1.3.1 (from torch>=1.11.0->sentence-transformers>=2.6.0->langchain-huggingface)\n",
            "  Using cached nvidia_cublas_cu12-12.1.3.1-py3-none-manylinux1_x86_64.whl (410.6 MB)\n",
            "Collecting nvidia-cufft-cu12==11.0.2.54 (from torch>=1.11.0->sentence-transformers>=2.6.0->langchain-huggingface)\n",
            "  Using cached nvidia_cufft_cu12-11.0.2.54-py3-none-manylinux1_x86_64.whl (121.6 MB)\n",
            "Collecting nvidia-curand-cu12==10.3.2.106 (from torch>=1.11.0->sentence-transformers>=2.6.0->langchain-huggingface)\n",
            "  Using cached nvidia_curand_cu12-10.3.2.106-py3-none-manylinux1_x86_64.whl (56.5 MB)\n",
            "Collecting nvidia-cusolver-cu12==11.4.5.107 (from torch>=1.11.0->sentence-transformers>=2.6.0->langchain-huggingface)\n",
            "  Using cached nvidia_cusolver_cu12-11.4.5.107-py3-none-manylinux1_x86_64.whl (124.2 MB)\n",
            "Collecting nvidia-cusparse-cu12==12.1.0.106 (from torch>=1.11.0->sentence-transformers>=2.6.0->langchain-huggingface)\n",
            "  Using cached nvidia_cusparse_cu12-12.1.0.106-py3-none-manylinux1_x86_64.whl (196.0 MB)\n",
            "Collecting nvidia-nccl-cu12==2.20.5 (from torch>=1.11.0->sentence-transformers>=2.6.0->langchain-huggingface)\n",
            "  Using cached nvidia_nccl_cu12-2.20.5-py3-none-manylinux2014_x86_64.whl (176.2 MB)\n",
            "Collecting nvidia-nvtx-cu12==12.1.105 (from torch>=1.11.0->sentence-transformers>=2.6.0->langchain-huggingface)\n",
            "  Using cached nvidia_nvtx_cu12-12.1.105-py3-none-manylinux1_x86_64.whl (99 kB)\n",
            "Requirement already satisfied: triton==2.3.0 in /usr/local/lib/python3.10/dist-packages (from torch>=1.11.0->sentence-transformers>=2.6.0->langchain-huggingface) (2.3.0)\n",
            "Collecting nvidia-nvjitlink-cu12 (from nvidia-cusolver-cu12==11.4.5.107->torch>=1.11.0->sentence-transformers>=2.6.0->langchain-huggingface)\n",
            "  Downloading nvidia_nvjitlink_cu12-12.5.40-py3-none-manylinux2014_x86_64.whl (21.3 MB)\n",
            "\u001b[2K     \u001b[90m━━━━━━━━━━━━━━━━━━━━━━━━━━━━━━━━━━━━━━━━\u001b[0m \u001b[32m21.3/21.3 MB\u001b[0m \u001b[31m22.2 MB/s\u001b[0m eta \u001b[36m0:00:00\u001b[0m\n",
            "\u001b[?25hCollecting mypy-extensions>=0.3.0 (from typing-inspect<1,>=0.4.0->dataclasses-json<0.7,>=0.5.7->langchain_community)\n",
            "  Downloading mypy_extensions-1.0.0-py3-none-any.whl (4.7 kB)\n",
            "Requirement already satisfied: joblib>=1.1.1 in /usr/local/lib/python3.10/dist-packages (from scikit-learn->sentence-transformers>=2.6.0->langchain-huggingface) (1.4.2)\n",
            "Requirement already satisfied: threadpoolctl>=2.0.0 in /usr/local/lib/python3.10/dist-packages (from scikit-learn->sentence-transformers>=2.6.0->langchain-huggingface) (3.5.0)\n",
            "Requirement already satisfied: exceptiongroup in /usr/local/lib/python3.10/dist-packages (from anyio->httpx>=0.21.2->cohere<6.0,>=5.5.6->langchain_cohere) (1.2.1)\n",
            "Requirement already satisfied: MarkupSafe>=2.0 in /usr/local/lib/python3.10/dist-packages (from jinja2->torch>=1.11.0->sentence-transformers>=2.6.0->langchain-huggingface) (2.1.5)\n",
            "Requirement already satisfied: mpmath<1.4.0,>=1.1.0 in /usr/local/lib/python3.10/dist-packages (from sympy->torch>=1.11.0->sentence-transformers>=2.6.0->langchain-huggingface) (1.3.0)\n",
            "Installing collected packages: xxhash, types-requests, requests, pyarrow, parameterized, orjson, nvidia-nvtx-cu12, nvidia-nvjitlink-cu12, nvidia-nccl-cu12, nvidia-curand-cu12, nvidia-cufft-cu12, nvidia-cuda-runtime-cu12, nvidia-cuda-nvrtc-cu12, nvidia-cuda-cupti-cu12, nvidia-cublas-cu12, mypy-extensions, marshmallow, jsonpointer, jmespath, httpx-sse, h11, fastavro, dill, typing-inspect, nvidia-cusparse-cu12, nvidia-cudnn-cu12, multiprocess, jsonpatch, httpcore, botocore, s3transfer, nvidia-cusolver-cu12, langsmith, httpx, dataclasses-json, langchain-core, datasets, boto3, sentence-transformers, langchain-text-splitters, cohere, langchain-huggingface, langchain_cohere, langchain, langchain_community\n",
            "  Attempting uninstall: requests\n",
            "    Found existing installation: requests 2.31.0\n",
            "    Uninstalling requests-2.31.0:\n",
            "      Successfully uninstalled requests-2.31.0\n",
            "  Attempting uninstall: pyarrow\n",
            "    Found existing installation: pyarrow 14.0.2\n",
            "    Uninstalling pyarrow-14.0.2:\n",
            "      Successfully uninstalled pyarrow-14.0.2\n",
            "\u001b[31mERROR: pip's dependency resolver does not currently take into account all the packages that are installed. This behaviour is the source of the following dependency conflicts.\n",
            "cudf-cu12 24.4.1 requires pyarrow<15.0.0a0,>=14.0.1, but you have pyarrow 16.1.0 which is incompatible.\n",
            "google-colab 1.0.0 requires requests==2.31.0, but you have requests 2.32.3 which is incompatible.\n",
            "ibis-framework 8.0.0 requires pyarrow<16,>=2, but you have pyarrow 16.1.0 which is incompatible.\u001b[0m\u001b[31m\n",
            "\u001b[0mSuccessfully installed boto3-1.34.131 botocore-1.34.131 cohere-5.5.8 dataclasses-json-0.6.7 datasets-2.20.0 dill-0.3.8 fastavro-1.9.4 h11-0.14.0 httpcore-1.0.5 httpx-0.27.0 httpx-sse-0.4.0 jmespath-1.0.1 jsonpatch-1.33 jsonpointer-3.0.0 langchain-0.2.5 langchain-core-0.2.9 langchain-huggingface-0.0.3 langchain-text-splitters-0.2.1 langchain_cohere-0.1.8 langchain_community-0.2.5 langsmith-0.1.81 marshmallow-3.21.3 multiprocess-0.70.16 mypy-extensions-1.0.0 nvidia-cublas-cu12-12.1.3.1 nvidia-cuda-cupti-cu12-12.1.105 nvidia-cuda-nvrtc-cu12-12.1.105 nvidia-cuda-runtime-cu12-12.1.105 nvidia-cudnn-cu12-8.9.2.26 nvidia-cufft-cu12-11.0.2.54 nvidia-curand-cu12-10.3.2.106 nvidia-cusolver-cu12-11.4.5.107 nvidia-cusparse-cu12-12.1.0.106 nvidia-nccl-cu12-2.20.5 nvidia-nvjitlink-cu12-12.5.40 nvidia-nvtx-cu12-12.1.105 orjson-3.10.5 parameterized-0.9.0 pyarrow-16.1.0 requests-2.32.3 s3transfer-0.10.1 sentence-transformers-3.0.1 types-requests-2.32.0.20240622 typing-inspect-0.9.0 xxhash-3.4.1\n"
          ]
        }
      ]
    },
    {
      "cell_type": "markdown",
      "source": [
        "# Preparing Dataset"
      ],
      "metadata": {
        "id": "turNGZVagPLZ"
      }
    },
    {
      "cell_type": "code",
      "source": [
        "# Importing All Libraries\n",
        "import re\n",
        "import pandas as pd\n",
        "import numpy as np\n",
        "from langchain.text_splitter import RecursiveCharacterTextSplitter\n",
        "from langchain_huggingface import HuggingFaceEndpoint\n",
        "from langchain.docstore.document import Document as LangchainDocument\n",
        "import datasets\n",
        "import random\n",
        "from tqdm.auto import tqdm\n"
      ],
      "metadata": {
        "id": "ZIAlc9l04KaR"
      },
      "execution_count": 89,
      "outputs": []
    },
    {
      "cell_type": "code",
      "source": [
        "keywords = [\"israel\",\"hamas\",\"gaza\"]\n",
        "\n",
        "def clean_text(text):\n",
        "  text=re.sub(r'\\W+',\" \",text)\n",
        "  text=text.lower()\n",
        "  return text\n",
        "\n",
        "def is_relevant(text):\n",
        "  return any(keyword in text for keyword in keywords)"
      ],
      "metadata": {
        "id": "ap8VEkw8DAsP"
      },
      "execution_count": 6,
      "outputs": []
    },
    {
      "cell_type": "code",
      "source": [
        "filtered_articles=[]\n",
        "y_train=[]\n",
        "news=[]\n",
        "\n",
        "for item in data:\n",
        "  article_body = clean_text(item['articleBody'])\n",
        "  article_title = clean_text(item['title'])\n",
        "\n",
        "  if is_relevant(article_body) or is_relevant(article_title):\n",
        "    filtered_articles.append(item)\n",
        "    news.append(article_title)\n",
        "    y_train.append(1)\n",
        "  else:\n",
        "    news.append(article_title)\n",
        "    y_train.append(0)"
      ],
      "metadata": {
        "id": "qm76pDw0DpbH"
      },
      "execution_count": 7,
      "outputs": []
    },
    {
      "cell_type": "code",
      "source": [
        "type(filtered_articles)"
      ],
      "metadata": {
        "colab": {
          "base_uri": "https://localhost:8080/"
        },
        "id": "c9b_2lnvEOyw",
        "outputId": "f18722ed-5edf-4ff6-f38c-fdc9941bf724"
      },
      "execution_count": 9,
      "outputs": [
        {
          "output_type": "execute_result",
          "data": {
            "text/plain": [
              "list"
            ]
          },
          "metadata": {},
          "execution_count": 9
        }
      ]
    },
    {
      "cell_type": "code",
      "source": [
        "# prompt: randomly picking 2500 articles from filtered_articles list\n",
        "\n",
        "import random\n",
        "\n",
        "random_articles = random.sample(filtered_articles, 2500)\n",
        "\n",
        "# Optional: Print the randomly selected articles\n",
        "for article in random_articles:\n",
        "  print(article['title'])\n"
      ],
      "metadata": {
        "id": "6zo6PAL3ghoE"
      },
      "execution_count": null,
      "outputs": []
    },
    {
      "cell_type": "code",
      "source": [
        "# prompt: how to save these random articles\n",
        "\n",
        "import json\n",
        "\n",
        "with open('/content/drive/MyDrive/News Article/random_articles.json', 'w') as f:\n",
        "  json.dump(random_articles, f)\n"
      ],
      "metadata": {
        "id": "s5TA5rKwoSLJ"
      },
      "execution_count": null,
      "outputs": []
    },
    {
      "cell_type": "code",
      "source": [
        "# prompt: loading this randomarticle.json\n",
        "\n",
        "import json\n",
        "\n",
        "with open('/content/random_articles.json', 'r') as f:\n",
        "  random_articles = json.load(f)\n",
        "\n",
        "# Optional: Print the loaded articles\n",
        "for article in random_articles:\n",
        "  print(article['title'])\n"
      ],
      "metadata": {
        "id": "1co1x8wjtGDI"
      },
      "execution_count": null,
      "outputs": []
    },
    {
      "cell_type": "code",
      "source": [
        "langchain_docs = [LangchainDocument(page_content=doc['articleBody'],metadata={\"source\":doc['source'],\"title\":doc[\"title\"]}) for doc in random_articles]"
      ],
      "metadata": {
        "id": "MiPDgam2hH1V"
      },
      "execution_count": 13,
      "outputs": []
    },
    {
      "cell_type": "markdown",
      "source": [
        "# Preparing eval dataset"
      ],
      "metadata": {
        "id": "PW4yhu18h9yn"
      }
    },
    {
      "cell_type": "code",
      "source": [
        "text_splitter = RecursiveCharacterTextSplitter(chunk_size=2500,chunk_overlap=200,add_start_index=True,separators=[\"\\n\",\"\\n\\n\",\".\",\"\",\" \"])"
      ],
      "metadata": {
        "id": "gpSQgUHuhgZo"
      },
      "execution_count": 11,
      "outputs": []
    },
    {
      "cell_type": "code",
      "source": [
        "docs_processed=[]\n",
        "\n",
        "for doc in langchain_docs:\n",
        "  docs_processed += text_splitter.split_documents([doc])"
      ],
      "metadata": {
        "id": "XlarQdhjhgcU"
      },
      "execution_count": 14,
      "outputs": []
    },
    {
      "cell_type": "code",
      "source": [
        "llm = HuggingFaceEndpoint(\n",
        "    repo_id=\"mistralai/Mistral-7B-Instruct-v0.3\",\n",
        "    task=\"text-generation\",\n",
        "    max_new_tokens=1000,\n",
        "    do_sample=False,\n",
        ")"
      ],
      "metadata": {
        "id": "9-cLhBzUhgfN"
      },
      "execution_count": 15,
      "outputs": []
    },
    {
      "cell_type": "code",
      "source": [
        "QA_generation_prompt = \"\"\"\n",
        "Your task is to write a factoid question and an answer given a context.\n",
        "Your factoid question should be answerable with a specific, concise piece of factual information from the context.\n",
        "Your factoid question should be formulated in the same style as questions users could ask in a search engine.\n",
        "This means that your factoid question MUST NOT mention something like \"according to the passage\" or \"context\".\n",
        "\n",
        "Provide your answer as follows:\n",
        "\n",
        "Output:::\n",
        "Factoid question: (your factoid question)\n",
        "Answer: (your answer to the factoid question)\n",
        "\n",
        "Now here is the context.\n",
        "\n",
        "Context: {context}\\n\n",
        "Output:::\"\"\""
      ],
      "metadata": {
        "id": "Bwuui_CGhgiD"
      },
      "execution_count": 16,
      "outputs": []
    },
    {
      "cell_type": "code",
      "source": [
        "def generate_response(llm,prompt):\n",
        "  return llm(prompt)"
      ],
      "metadata": {
        "id": "ZHvVGkP7hgk-"
      },
      "execution_count": 17,
      "outputs": []
    },
    {
      "cell_type": "code",
      "source": [
        "import random\n",
        "from tqdm.auto import tqdm\n",
        "\n",
        "N_GENERATIONS = 100\n",
        "\n",
        "print(f\"Generating {N_GENERATIONS} factoid questions...\")\n",
        "outputs=[]\n",
        "\n",
        "for sampled_context in tqdm(random.sample(docs_processed, N_GENERATIONS)):\n",
        "  prompt = QA_generation_prompt.format(context=sampled_context.page_content)\n",
        "  response = llm(prompt)\n",
        "  question = response.split(\"Factoid question:\")[1].split(\"Answer:\")[0].strip()\n",
        "  answer = response.split(\"Answer:\")[1].strip()\n",
        "  outputs.append({\n",
        "      \"question\":question,\n",
        "      \"answer\":answer,\n",
        "      \"context\":sampled_context.page_content,\n",
        "      \"source\":sampled_context.metadata[\"source\"],\n",
        "      \"title\":sampled_context.metadata[\"title\"]\n",
        "      })\n",
        "\n",
        "\n"
      ],
      "metadata": {
        "colab": {
          "base_uri": "https://localhost:8080/",
          "height": 228
        },
        "id": "sBLSo6oIhgoW",
        "outputId": "4268b31c-d143-4328-9273-a2899b7f5e0c"
      },
      "execution_count": 88,
      "outputs": [
        {
          "output_type": "stream",
          "name": "stdout",
          "text": [
            "Generating 100 factoid questions...\n"
          ]
        },
        {
          "output_type": "error",
          "ename": "NameError",
          "evalue": "name 'docs_processed' is not defined",
          "traceback": [
            "\u001b[0;31m---------------------------------------------------------------------------\u001b[0m",
            "\u001b[0;31mNameError\u001b[0m                                 Traceback (most recent call last)",
            "\u001b[0;32m<ipython-input-88-5f555c1d0673>\u001b[0m in \u001b[0;36m<cell line: 9>\u001b[0;34m()\u001b[0m\n\u001b[1;32m      7\u001b[0m \u001b[0moutputs\u001b[0m\u001b[0;34m=\u001b[0m\u001b[0;34m[\u001b[0m\u001b[0;34m]\u001b[0m\u001b[0;34m\u001b[0m\u001b[0;34m\u001b[0m\u001b[0m\n\u001b[1;32m      8\u001b[0m \u001b[0;34m\u001b[0m\u001b[0m\n\u001b[0;32m----> 9\u001b[0;31m \u001b[0;32mfor\u001b[0m \u001b[0msampled_context\u001b[0m \u001b[0;32min\u001b[0m \u001b[0mtqdm\u001b[0m\u001b[0;34m(\u001b[0m\u001b[0mrandom\u001b[0m\u001b[0;34m.\u001b[0m\u001b[0msample\u001b[0m\u001b[0;34m(\u001b[0m\u001b[0mdocs_processed\u001b[0m\u001b[0;34m,\u001b[0m \u001b[0mN_GENERATIONS\u001b[0m\u001b[0;34m)\u001b[0m\u001b[0;34m)\u001b[0m\u001b[0;34m:\u001b[0m\u001b[0;34m\u001b[0m\u001b[0;34m\u001b[0m\u001b[0m\n\u001b[0m\u001b[1;32m     10\u001b[0m   \u001b[0mprompt\u001b[0m \u001b[0;34m=\u001b[0m \u001b[0mQA_generation_prompt\u001b[0m\u001b[0;34m.\u001b[0m\u001b[0mformat\u001b[0m\u001b[0;34m(\u001b[0m\u001b[0mcontext\u001b[0m\u001b[0;34m=\u001b[0m\u001b[0msampled_context\u001b[0m\u001b[0;34m.\u001b[0m\u001b[0mpage_content\u001b[0m\u001b[0;34m)\u001b[0m\u001b[0;34m\u001b[0m\u001b[0;34m\u001b[0m\u001b[0m\n\u001b[1;32m     11\u001b[0m   \u001b[0mresponse\u001b[0m \u001b[0;34m=\u001b[0m \u001b[0mllm\u001b[0m\u001b[0;34m(\u001b[0m\u001b[0mprompt\u001b[0m\u001b[0;34m)\u001b[0m\u001b[0;34m\u001b[0m\u001b[0;34m\u001b[0m\u001b[0m\n",
            "\u001b[0;31mNameError\u001b[0m: name 'docs_processed' is not defined"
          ]
        }
      ]
    },
    {
      "cell_type": "code",
      "source": [
        "display(pd.DataFrame(outputs))"
      ],
      "metadata": {
        "colab": {
          "base_uri": "https://localhost:8080/",
          "height": 597
        },
        "id": "WqB-_OfRipiH",
        "outputId": "461b3c12-ff47-46ef-d41d-aff42e5785fe"
      },
      "execution_count": 19,
      "outputs": [
        {
          "output_type": "display_data",
          "data": {
            "text/plain": [
              "                                             question  \\\n",
              "0   What kind of vessel was hit by a projectile ne...   \n",
              "1   What is the new border strategy that the Biden...   \n",
              "2   How many hours of research could be saved by u...   \n",
              "3        What is Michael Douglas' religious identity?   \n",
              "4   What is the size of the biggest tunnel found i...   \n",
              "..                                                ...   \n",
              "95  What is the registration process to read full ...   \n",
              "96  What did Pope Francis tell President Isaac Her...   \n",
              "97  Who reclaimed and reanimated the Hairpin websi...   \n",
              "98  What action is the US considering against the ...   \n",
              "99  How many men trapped inside the Uttarkashi tun...   \n",
              "\n",
              "                                               answer  \\\n",
              "0           The Number 9, a 4,253-teu container ship.   \n",
              "1   The new border strategy that the Biden adminis...   \n",
              "2   The context does not provide a specific number...   \n",
              "3         Michael Douglas identifies as a Reform Jew.   \n",
              "4   The biggest tunnel found in Gaza is twice the ...   \n",
              "..                                                ...   \n",
              "95  The registration process to read full articles...   \n",
              "96  Pope Francis told President Isaac Herzog durin...   \n",
              "97  Nebojša Vujinović Vujo, a Serbian DJ-turned-en...   \n",
              "98        The US is considering striking the Houthis.   \n",
              "99  Eight men trapped inside the Uttarkashi tunnel...   \n",
              "\n",
              "                                              context  \\\n",
              "0   At least two commercial vessels and a US warsh...   \n",
              "1   Biden considering expelling migrants without a...   \n",
              "2   How well do you really know your competitors? ...   \n",
              "3   Anu Kuruvilla By\\n\\nExpress News Service\\n\\nKO...   \n",
              "4   While the military was aware that Hamas had an...   \n",
              "..                                                ...   \n",
              "95  Dear Reader,\\n\\nThis section is about Living i...   \n",
              "96  Pope Francis held a tense phone call with Pres...   \n",
              "97  The platforms carry fabricated reports about p...   \n",
              "98  Top officials in Washington are actively weigh...   \n",
              "99  Exclusive Minds is an account on X that descri...   \n",
              "\n",
              "                               source  \\\n",
              "0     https://www.tradewindsnews.com/   \n",
              "1        https://www.dailymail.co.uk/   \n",
              "2          https://www.verdict.co.uk/   \n",
              "3   https://www.newindianexpress.com/   \n",
              "4             https://thefederal.com/   \n",
              "..                                ...   \n",
              "95              https://gulfnews.com/   \n",
              "96     https://www.timesofisrael.com/   \n",
              "97    https://www.hindustantimes.com/   \n",
              "98           https://www.wionews.com/   \n",
              "99         https://indianexpress.com/   \n",
              "\n",
              "                                                title  \n",
              "0   Houthis step up Red Sea attacks, targeting str...  \n",
              "1   Biden considering expelling migrants without a...  \n",
              "2   Authors accuse Meta of ‘knowingly’ training AI...  \n",
              "3   Hollywood stars Michael Douglas, Catherine Zet...  \n",
              "4   Israel finds large tunnel adjacent to Gaza bor...  \n",
              "..                                                ...  \n",
              "95  UN expert says Israel has committed genocide i...  \n",
              "96  Report: Pope told Herzog last month Israel can...  \n",
              "97  The rise of merchants of menace: What will the...  \n",
              "98  US weighs options to retaliate against Houthi ...  \n",
              "99  AI-generated image of rescued mine workers tra...  \n",
              "\n",
              "[100 rows x 5 columns]"
            ],
            "text/html": [
              "\n",
              "  <div id=\"df-f42a85c6-8616-4d75-819c-2e04540885e0\" class=\"colab-df-container\">\n",
              "    <div>\n",
              "<style scoped>\n",
              "    .dataframe tbody tr th:only-of-type {\n",
              "        vertical-align: middle;\n",
              "    }\n",
              "\n",
              "    .dataframe tbody tr th {\n",
              "        vertical-align: top;\n",
              "    }\n",
              "\n",
              "    .dataframe thead th {\n",
              "        text-align: right;\n",
              "    }\n",
              "</style>\n",
              "<table border=\"1\" class=\"dataframe\">\n",
              "  <thead>\n",
              "    <tr style=\"text-align: right;\">\n",
              "      <th></th>\n",
              "      <th>question</th>\n",
              "      <th>answer</th>\n",
              "      <th>context</th>\n",
              "      <th>source</th>\n",
              "      <th>title</th>\n",
              "    </tr>\n",
              "  </thead>\n",
              "  <tbody>\n",
              "    <tr>\n",
              "      <th>0</th>\n",
              "      <td>What kind of vessel was hit by a projectile ne...</td>\n",
              "      <td>The Number 9, a 4,253-teu container ship.</td>\n",
              "      <td>At least two commercial vessels and a US warsh...</td>\n",
              "      <td>https://www.tradewindsnews.com/</td>\n",
              "      <td>Houthis step up Red Sea attacks, targeting str...</td>\n",
              "    </tr>\n",
              "    <tr>\n",
              "      <th>1</th>\n",
              "      <td>What is the new border strategy that the Biden...</td>\n",
              "      <td>The new border strategy that the Biden adminis...</td>\n",
              "      <td>Biden considering expelling migrants without a...</td>\n",
              "      <td>https://www.dailymail.co.uk/</td>\n",
              "      <td>Biden considering expelling migrants without a...</td>\n",
              "    </tr>\n",
              "    <tr>\n",
              "      <th>2</th>\n",
              "      <td>How many hours of research could be saved by u...</td>\n",
              "      <td>The context does not provide a specific number...</td>\n",
              "      <td>How well do you really know your competitors? ...</td>\n",
              "      <td>https://www.verdict.co.uk/</td>\n",
              "      <td>Authors accuse Meta of ‘knowingly’ training AI...</td>\n",
              "    </tr>\n",
              "    <tr>\n",
              "      <th>3</th>\n",
              "      <td>What is Michael Douglas' religious identity?</td>\n",
              "      <td>Michael Douglas identifies as a Reform Jew.</td>\n",
              "      <td>Anu Kuruvilla By\\n\\nExpress News Service\\n\\nKO...</td>\n",
              "      <td>https://www.newindianexpress.com/</td>\n",
              "      <td>Hollywood stars Michael Douglas, Catherine Zet...</td>\n",
              "    </tr>\n",
              "    <tr>\n",
              "      <th>4</th>\n",
              "      <td>What is the size of the biggest tunnel found i...</td>\n",
              "      <td>The biggest tunnel found in Gaza is twice the ...</td>\n",
              "      <td>While the military was aware that Hamas had an...</td>\n",
              "      <td>https://thefederal.com/</td>\n",
              "      <td>Israel finds large tunnel adjacent to Gaza bor...</td>\n",
              "    </tr>\n",
              "    <tr>\n",
              "      <th>...</th>\n",
              "      <td>...</td>\n",
              "      <td>...</td>\n",
              "      <td>...</td>\n",
              "      <td>...</td>\n",
              "      <td>...</td>\n",
              "    </tr>\n",
              "    <tr>\n",
              "      <th>95</th>\n",
              "      <td>What is the registration process to read full ...</td>\n",
              "      <td>The registration process to read full articles...</td>\n",
              "      <td>Dear Reader,\\n\\nThis section is about Living i...</td>\n",
              "      <td>https://gulfnews.com/</td>\n",
              "      <td>UN expert says Israel has committed genocide i...</td>\n",
              "    </tr>\n",
              "    <tr>\n",
              "      <th>96</th>\n",
              "      <td>What did Pope Francis tell President Isaac Her...</td>\n",
              "      <td>Pope Francis told President Isaac Herzog durin...</td>\n",
              "      <td>Pope Francis held a tense phone call with Pres...</td>\n",
              "      <td>https://www.timesofisrael.com/</td>\n",
              "      <td>Report: Pope told Herzog last month Israel can...</td>\n",
              "    </tr>\n",
              "    <tr>\n",
              "      <th>97</th>\n",
              "      <td>Who reclaimed and reanimated the Hairpin websi...</td>\n",
              "      <td>Nebojša Vujinović Vujo, a Serbian DJ-turned-en...</td>\n",
              "      <td>The platforms carry fabricated reports about p...</td>\n",
              "      <td>https://www.hindustantimes.com/</td>\n",
              "      <td>The rise of merchants of menace: What will the...</td>\n",
              "    </tr>\n",
              "    <tr>\n",
              "      <th>98</th>\n",
              "      <td>What action is the US considering against the ...</td>\n",
              "      <td>The US is considering striking the Houthis.</td>\n",
              "      <td>Top officials in Washington are actively weigh...</td>\n",
              "      <td>https://www.wionews.com/</td>\n",
              "      <td>US weighs options to retaliate against Houthi ...</td>\n",
              "    </tr>\n",
              "    <tr>\n",
              "      <th>99</th>\n",
              "      <td>How many men trapped inside the Uttarkashi tun...</td>\n",
              "      <td>Eight men trapped inside the Uttarkashi tunnel...</td>\n",
              "      <td>Exclusive Minds is an account on X that descri...</td>\n",
              "      <td>https://indianexpress.com/</td>\n",
              "      <td>AI-generated image of rescued mine workers tra...</td>\n",
              "    </tr>\n",
              "  </tbody>\n",
              "</table>\n",
              "<p>100 rows × 5 columns</p>\n",
              "</div>\n",
              "    <div class=\"colab-df-buttons\">\n",
              "\n",
              "  <div class=\"colab-df-container\">\n",
              "    <button class=\"colab-df-convert\" onclick=\"convertToInteractive('df-f42a85c6-8616-4d75-819c-2e04540885e0')\"\n",
              "            title=\"Convert this dataframe to an interactive table.\"\n",
              "            style=\"display:none;\">\n",
              "\n",
              "  <svg xmlns=\"http://www.w3.org/2000/svg\" height=\"24px\" viewBox=\"0 -960 960 960\">\n",
              "    <path d=\"M120-120v-720h720v720H120Zm60-500h600v-160H180v160Zm220 220h160v-160H400v160Zm0 220h160v-160H400v160ZM180-400h160v-160H180v160Zm440 0h160v-160H620v160ZM180-180h160v-160H180v160Zm440 0h160v-160H620v160Z\"/>\n",
              "  </svg>\n",
              "    </button>\n",
              "\n",
              "  <style>\n",
              "    .colab-df-container {\n",
              "      display:flex;\n",
              "      gap: 12px;\n",
              "    }\n",
              "\n",
              "    .colab-df-convert {\n",
              "      background-color: #E8F0FE;\n",
              "      border: none;\n",
              "      border-radius: 50%;\n",
              "      cursor: pointer;\n",
              "      display: none;\n",
              "      fill: #1967D2;\n",
              "      height: 32px;\n",
              "      padding: 0 0 0 0;\n",
              "      width: 32px;\n",
              "    }\n",
              "\n",
              "    .colab-df-convert:hover {\n",
              "      background-color: #E2EBFA;\n",
              "      box-shadow: 0px 1px 2px rgba(60, 64, 67, 0.3), 0px 1px 3px 1px rgba(60, 64, 67, 0.15);\n",
              "      fill: #174EA6;\n",
              "    }\n",
              "\n",
              "    .colab-df-buttons div {\n",
              "      margin-bottom: 4px;\n",
              "    }\n",
              "\n",
              "    [theme=dark] .colab-df-convert {\n",
              "      background-color: #3B4455;\n",
              "      fill: #D2E3FC;\n",
              "    }\n",
              "\n",
              "    [theme=dark] .colab-df-convert:hover {\n",
              "      background-color: #434B5C;\n",
              "      box-shadow: 0px 1px 3px 1px rgba(0, 0, 0, 0.15);\n",
              "      filter: drop-shadow(0px 1px 2px rgba(0, 0, 0, 0.3));\n",
              "      fill: #FFFFFF;\n",
              "    }\n",
              "  </style>\n",
              "\n",
              "    <script>\n",
              "      const buttonEl =\n",
              "        document.querySelector('#df-f42a85c6-8616-4d75-819c-2e04540885e0 button.colab-df-convert');\n",
              "      buttonEl.style.display =\n",
              "        google.colab.kernel.accessAllowed ? 'block' : 'none';\n",
              "\n",
              "      async function convertToInteractive(key) {\n",
              "        const element = document.querySelector('#df-f42a85c6-8616-4d75-819c-2e04540885e0');\n",
              "        const dataTable =\n",
              "          await google.colab.kernel.invokeFunction('convertToInteractive',\n",
              "                                                    [key], {});\n",
              "        if (!dataTable) return;\n",
              "\n",
              "        const docLinkHtml = 'Like what you see? Visit the ' +\n",
              "          '<a target=\"_blank\" href=https://colab.research.google.com/notebooks/data_table.ipynb>data table notebook</a>'\n",
              "          + ' to learn more about interactive tables.';\n",
              "        element.innerHTML = '';\n",
              "        dataTable['output_type'] = 'display_data';\n",
              "        await google.colab.output.renderOutput(dataTable, element);\n",
              "        const docLink = document.createElement('div');\n",
              "        docLink.innerHTML = docLinkHtml;\n",
              "        element.appendChild(docLink);\n",
              "      }\n",
              "    </script>\n",
              "  </div>\n",
              "\n",
              "\n",
              "<div id=\"df-02612c3a-1f4f-4034-83a3-c3492b830a0d\">\n",
              "  <button class=\"colab-df-quickchart\" onclick=\"quickchart('df-02612c3a-1f4f-4034-83a3-c3492b830a0d')\"\n",
              "            title=\"Suggest charts\"\n",
              "            style=\"display:none;\">\n",
              "\n",
              "<svg xmlns=\"http://www.w3.org/2000/svg\" height=\"24px\"viewBox=\"0 0 24 24\"\n",
              "     width=\"24px\">\n",
              "    <g>\n",
              "        <path d=\"M19 3H5c-1.1 0-2 .9-2 2v14c0 1.1.9 2 2 2h14c1.1 0 2-.9 2-2V5c0-1.1-.9-2-2-2zM9 17H7v-7h2v7zm4 0h-2V7h2v10zm4 0h-2v-4h2v4z\"/>\n",
              "    </g>\n",
              "</svg>\n",
              "  </button>\n",
              "\n",
              "<style>\n",
              "  .colab-df-quickchart {\n",
              "      --bg-color: #E8F0FE;\n",
              "      --fill-color: #1967D2;\n",
              "      --hover-bg-color: #E2EBFA;\n",
              "      --hover-fill-color: #174EA6;\n",
              "      --disabled-fill-color: #AAA;\n",
              "      --disabled-bg-color: #DDD;\n",
              "  }\n",
              "\n",
              "  [theme=dark] .colab-df-quickchart {\n",
              "      --bg-color: #3B4455;\n",
              "      --fill-color: #D2E3FC;\n",
              "      --hover-bg-color: #434B5C;\n",
              "      --hover-fill-color: #FFFFFF;\n",
              "      --disabled-bg-color: #3B4455;\n",
              "      --disabled-fill-color: #666;\n",
              "  }\n",
              "\n",
              "  .colab-df-quickchart {\n",
              "    background-color: var(--bg-color);\n",
              "    border: none;\n",
              "    border-radius: 50%;\n",
              "    cursor: pointer;\n",
              "    display: none;\n",
              "    fill: var(--fill-color);\n",
              "    height: 32px;\n",
              "    padding: 0;\n",
              "    width: 32px;\n",
              "  }\n",
              "\n",
              "  .colab-df-quickchart:hover {\n",
              "    background-color: var(--hover-bg-color);\n",
              "    box-shadow: 0 1px 2px rgba(60, 64, 67, 0.3), 0 1px 3px 1px rgba(60, 64, 67, 0.15);\n",
              "    fill: var(--button-hover-fill-color);\n",
              "  }\n",
              "\n",
              "  .colab-df-quickchart-complete:disabled,\n",
              "  .colab-df-quickchart-complete:disabled:hover {\n",
              "    background-color: var(--disabled-bg-color);\n",
              "    fill: var(--disabled-fill-color);\n",
              "    box-shadow: none;\n",
              "  }\n",
              "\n",
              "  .colab-df-spinner {\n",
              "    border: 2px solid var(--fill-color);\n",
              "    border-color: transparent;\n",
              "    border-bottom-color: var(--fill-color);\n",
              "    animation:\n",
              "      spin 1s steps(1) infinite;\n",
              "  }\n",
              "\n",
              "  @keyframes spin {\n",
              "    0% {\n",
              "      border-color: transparent;\n",
              "      border-bottom-color: var(--fill-color);\n",
              "      border-left-color: var(--fill-color);\n",
              "    }\n",
              "    20% {\n",
              "      border-color: transparent;\n",
              "      border-left-color: var(--fill-color);\n",
              "      border-top-color: var(--fill-color);\n",
              "    }\n",
              "    30% {\n",
              "      border-color: transparent;\n",
              "      border-left-color: var(--fill-color);\n",
              "      border-top-color: var(--fill-color);\n",
              "      border-right-color: var(--fill-color);\n",
              "    }\n",
              "    40% {\n",
              "      border-color: transparent;\n",
              "      border-right-color: var(--fill-color);\n",
              "      border-top-color: var(--fill-color);\n",
              "    }\n",
              "    60% {\n",
              "      border-color: transparent;\n",
              "      border-right-color: var(--fill-color);\n",
              "    }\n",
              "    80% {\n",
              "      border-color: transparent;\n",
              "      border-right-color: var(--fill-color);\n",
              "      border-bottom-color: var(--fill-color);\n",
              "    }\n",
              "    90% {\n",
              "      border-color: transparent;\n",
              "      border-bottom-color: var(--fill-color);\n",
              "    }\n",
              "  }\n",
              "</style>\n",
              "\n",
              "  <script>\n",
              "    async function quickchart(key) {\n",
              "      const quickchartButtonEl =\n",
              "        document.querySelector('#' + key + ' button');\n",
              "      quickchartButtonEl.disabled = true;  // To prevent multiple clicks.\n",
              "      quickchartButtonEl.classList.add('colab-df-spinner');\n",
              "      try {\n",
              "        const charts = await google.colab.kernel.invokeFunction(\n",
              "            'suggestCharts', [key], {});\n",
              "      } catch (error) {\n",
              "        console.error('Error during call to suggestCharts:', error);\n",
              "      }\n",
              "      quickchartButtonEl.classList.remove('colab-df-spinner');\n",
              "      quickchartButtonEl.classList.add('colab-df-quickchart-complete');\n",
              "    }\n",
              "    (() => {\n",
              "      let quickchartButtonEl =\n",
              "        document.querySelector('#df-02612c3a-1f4f-4034-83a3-c3492b830a0d button');\n",
              "      quickchartButtonEl.style.display =\n",
              "        google.colab.kernel.accessAllowed ? 'block' : 'none';\n",
              "    })();\n",
              "  </script>\n",
              "</div>\n",
              "\n",
              "    </div>\n",
              "  </div>\n"
            ],
            "application/vnd.google.colaboratory.intrinsic+json": {
              "type": "dataframe",
              "summary": "{\n  \"name\": \"display(pd\",\n  \"rows\": 100,\n  \"fields\": [\n    {\n      \"column\": \"question\",\n      \"properties\": {\n        \"dtype\": \"string\",\n        \"num_unique_values\": 99,\n        \"samples\": [\n          \"When did Ismail Haniyeh make a statement about any future arrangement in Gaza without Hamas being a \\\"delusion\\\"?\",\n          \"What is the focus of the White House in the Red Sea and surrounding waters?\",\n          \"What did Pope Francis tell President Isaac Herzog during their phone call last month?\"\n        ],\n        \"semantic_type\": \"\",\n        \"description\": \"\"\n      }\n    },\n    {\n      \"column\": \"answer\",\n      \"properties\": {\n        \"dtype\": \"string\",\n        \"num_unique_values\": 99,\n        \"samples\": [\n          \"Ismail Haniyeh made a statement about any future arrangement in Gaza without Hamas being a \\\"delusion\\\" on a date that is not specified in the provided context, but it was mentioned to have occurred in the middle of an ongoing news story about the war.\",\n          \"The focus of the White House at this time is ensuring that there are sufficient military assets in place to deter Houthi threats to maritime trade in the Red Sea and in the surrounding waters to the global economy.\",\n          \"Pope Francis told President Isaac Herzog during their phone call last month that it is \\u201cforbidden to respond to terror with terror.\\u201d\"\n        ],\n        \"semantic_type\": \"\",\n        \"description\": \"\"\n      }\n    },\n    {\n      \"column\": \"context\",\n      \"properties\": {\n        \"dtype\": \"string\",\n        \"num_unique_values\": 99,\n        \"samples\": [\n          \"Reuters, AP and AFP Reframe Reality\\n\\nThe wire services all ignored Haniyeh\\u2019s praise for the UN and its Secretary-General.\\n\\nReuters\\u2019 article on the ceasefire resolution, which preceded Haniyeh\\u2019s statement, has not been updated to include his later comments. It still quotes the Palestinian Authority\\u2019s UN envoy as a representative of the Palestinian side:\\n\\nPalestinian Palestinian U.N. envoy Riyad Mansour, citing large pro-Palestinian protests around the world, said the U.S. could not continue \\u201cto ignore this massive power.\\u201d He described the General Assembly vote as a culmination of public sentiment.\\n\\nAnother relevant Reuters story did add a comment from a Hamas official. But it too wasn\\u2019t updated later to include the statement of the terror group\\u2019s leader.\\n\\nOnly a day after Haniyeh spoke, in the middle of an ongoing news story about the war, did Reuters include one line referring to what Haniyeh had said regarding Hamas:\\n\\nIn a televised address, Hamas Chief Ismail Haniyeh said any future arrangement in Gaza without Hamas was a \\u201cdelusion\\u201d.\\n\\nDid the Reuters crew in charge of monitoring such statements choose to highlight only this part? Did an editor bother to demand a translation of the whole statement to make sure nothing is missed? Either way, important facts were left out.\\n\\nWhat makes this omission and minimization even more disturbing is that last month Reuters published an entire piece featuring Haniyeh as an important figure:\\n\\nRelated Reading: Holocaust Distortion, Erased: Major News Outlets Omit Palestinian Leader\\u2019s Antisemitism From Reports\\n\\nAP went down a similar route. Its story on the UN vote has not been updated to include Haniyeh\\u2019s comments. It still quotes only the Palestinian Authority representative as a Palestinian voice. A later, ongoing news story that was used by ABC News, includes a short reference to what Haniyeh said about a future without Hamas as an \\u201cillusion\\u201d:\\n\\nLate Wednesday, Hamas\\u2019 supreme leader, Ismail Haniyeh said any plans for Gaza that do not involve Hamas are an \\u201cillusion and mirage,\\u201d though he said the group is open to halting the fighting. Speaking to Al-Masira TV, a channel linked to Yemen\\u2019s Houthi militant group, he claimed Hamas had dealt a \\u201cresounding blow\\u201d to Israel. Haniyeh lives in exile in Qatar, but it was not clear where he was when he made those comments.\",\n          \"\\u201cOur focus at this time is ensuring that there are sufficient military assets in place to deter these Houthi threats to maritime trade in the Red Sea and in the surrounding waters to the global economy writ large,\\u201d Kirby said.\\n\\nThe White House said the group would be under Combined Task Force 153. CTF-153 is an existing group that\\u2019s run by the Combined Maritime Forces partnership and tasked with Red Sea security. The CTF was established last year and has been commanded by both U.S. and Egyptian commanders.\\n\\nExpanding Red Sea security comes as the Houthis have launched multiple drones at ships in the Red Sea, the Houthis have claimed are Israeli-linked. This includes M/V Unity Explorer, which sent out a distress call after being attacked by drones launched from Houthi-controlled areas, USNI News reported.\\n\\nFive Somali pirates attacked M/V Central Park, which was connected to an Israeli businessman. The individuals attempted to flee toward Yemen, but the Department of Defense said initial indications have not revealed the pirates had connections with Houthis.\\n\\nIn his posts, Sare\\u2019e said that the success of the attacks on the commercial ships encouraged the Houthis to expand to block any commercial ship heading to or from Israel.\\n\\nDespite multiple American warships shooting down both Houthi-launched drones and cruise missiles, officials have said that U.S. ships weren\\u2019t the obvious targets of the weapons.\\n\\n\\u201cWe\\u2019re not in an armed conflict with the Houthis. We have seen drones and missiles shot from Houthi-controlled areas within Yemen,\\u201d Deputy Pentagon Press Secretary Sabrina Singh told reporters Thursday. \\u201cNot necessarily targeting our ships but of course targeting most likely commercial vessels that are transiting through the Red Sea. And so part of why we are in the region is to bolster our deterrence but to also ensure the free passageway of commercial ships that are transiting through one of the most vital waterways in the world.\\u201d\",\n          \"Pope Francis held a tense phone call with President Isaac Herzog last month in which he appeared to categorize Israel\\u2019s then-ongoing military operations against the Hamas terror group in Gaza as \\u201cterrorism,\\u201d the Washington Post reports, citing an unnamed senior Israeli official familiar with the call.\\n\\nIt is \\u201cforbidden to respond to terror with terror,\\u201d Francis told Herzog, who protested this classification, according to the report.\\n\\nIt adds that Israel felt the call went so bad, its officials didn\\u2019t make it public.\\n\\nThe Vatican confirms the existence of the call, while not elaborating on its content. Herzog\\u2019s office refuses to comment.\\n\\nLast week, the pope said in public remarks, \\u201cWe have gone beyond wars. This is not war. This is terrorism.\\u201d Jewish groups urged Francis to clarify those remarks and whether he was saying Israel was engaged in terrorism.\"\n        ],\n        \"semantic_type\": \"\",\n        \"description\": \"\"\n      }\n    },\n    {\n      \"column\": \"source\",\n      \"properties\": {\n        \"dtype\": \"string\",\n        \"num_unique_values\": 88,\n        \"samples\": [\n          \"https://www.greaterkashmir.com/\",\n          \"https://www.tradewindsnews.com/\",\n          \"https://www.washingtonpost.com/\"\n        ],\n        \"semantic_type\": \"\",\n        \"description\": \"\"\n      }\n    },\n    {\n      \"column\": \"title\",\n      \"properties\": {\n        \"dtype\": \"string\",\n        \"num_unique_values\": 96,\n        \"samples\": [\n          \"Suspected cyber attack disrupts Iran\\u2019s gas supply\",\n          \"Signal: Spotify to cut 17% of workforce as global tech hiring peaks in Oct\",\n          \"Israel Palestinians Gaza Hospitals\"\n        ],\n        \"semantic_type\": \"\",\n        \"description\": \"\"\n      }\n    }\n  ]\n}"
            }
          },
          "metadata": {}
        }
      ]
    },
    {
      "cell_type": "markdown",
      "source": [
        "## Setting up critique agents"
      ],
      "metadata": {
        "id": "QJ9UGW3wjHdR"
      }
    },
    {
      "cell_type": "code",
      "source": [
        "question_groundedness_critique_prompt = \"\"\"\n",
        "You will be given a context and a question.\n",
        "Your task is to provide a 'total rating' scoring how well one can answer the given question unambiguously with the given context.\n",
        "Give your answer on a scale of 1 to 5, where 1 means that the question is not answerable at all given the context, and 5 means that the question is clearly and unambiguously answerable with the context.\n",
        "\n",
        "Provide your answer as follows:\n",
        "\n",
        "Answer:::\n",
        "Evaluation: (your rationale for the rating, as a text)\n",
        "Total rating: (your rating, as a number between 1 and 5)\n",
        "\n",
        "You MUST provide values for 'Evaluation:' and 'Total rating:' in your answer.\n",
        "\n",
        "Now here are the question and context.\n",
        "\n",
        "Question: {question}\\n\n",
        "Context: {context}\\n\n",
        "Answer::: \"\"\""
      ],
      "metadata": {
        "id": "Har3UkmZiplF"
      },
      "execution_count": 20,
      "outputs": []
    },
    {
      "cell_type": "code",
      "source": [
        "question_standalone_critique_prompt = \"\"\"\n",
        "You will be given a question.\n",
        "Your task is to provide a 'total rating' representing how context-independant this question is.\n",
        "Give your answer on a scale of 1 to 5, where 1 means that the question depends on additional information to be understood, and 5 means that the question makes sense by itself.\n",
        "For instance, if the question refers to a particular setting, like 'in the context' or 'in the document', the rating must be 1.\n",
        "The questions can contain obscure technical nouns or acronyms like Gradio, Hub, Hugging Face or Space and still be a 5: it must simply be clear to an operator with access to documentation what the question is about.\n",
        "\n",
        "For instance, \"What is the name of the checkpoint from which the ViT model is imported?\" should receive a 1, since there is an implicit mention of a context, thus the question is not independant from the context.\n",
        "\n",
        "Provide your answer as follows:\n",
        "\n",
        "Answer:::\n",
        "Evaluation: (your rationale for the rating, as a text)\n",
        "Total rating: (your rating, as a number between 1 and 5)\n",
        "\n",
        "You MUST provide values for 'Evaluation:' and 'Total rating:' in your answer.\n",
        "\n",
        "Now here is the question.\n",
        "\n",
        "Question: {question}\\n\n",
        "Answer::: \"\"\""
      ],
      "metadata": {
        "id": "1YHnkyrUipn8"
      },
      "execution_count": 21,
      "outputs": []
    },
    {
      "cell_type": "code",
      "source": [
        "print(\"Generating critique for each QA couple\")\n",
        "\n",
        "for output in tqdm(outputs):\n",
        "  evaluations = {\n",
        "      \"question_groundedness\":generate_response(\n",
        "          llm,question_groundedness_critique_prompt.format(context=output[\"context\"],question=output[\"question\"])\n",
        "          ),\n",
        "      \"question_standalone\":generate_response(\n",
        "          llm,question_standalone_critique_prompt.format(question=output[\"question\"])\n",
        "      )\n",
        "  }\n",
        "  try:\n",
        "    for criterion, evaluation in evaluations.items():\n",
        "      score,eval = (\n",
        "          int(evaluation.split(\"Total rating: \")[-1].strip()),\n",
        "          evaluation.split(\"Total rating: \")[-2].split(\"Evaluation: \")[1]\n",
        "      )\n",
        "      output.update(\n",
        "          {\n",
        "              f\"{criterion}_score\":score,\n",
        "              f\"{criterion}_evaluation\":eval\n",
        "          }\n",
        "      )\n",
        "  except Exception as e:\n",
        "    print(e)\n",
        "    continue\n"
      ],
      "metadata": {
        "colab": {
          "base_uri": "https://localhost:8080/",
          "height": 225,
          "referenced_widgets": [
            "9329557152514dd6811f71d8a15e3478",
            "e42c2f2554b440d98f56394aecddb609",
            "56dbf78f7bdb40149791d00eccdd06b5",
            "be0eccd06f44432087dc02e72226a372",
            "fc085365bfe9417693017e9066d5cad2",
            "9ff2da8155b64e5f9d19c23bb62660f3",
            "5961bdaeec584853ac937b0064689358",
            "a2628fc81c074e0b8e22543dcfe246cf",
            "9df20abb440148c79c5387fe6f7c0459",
            "64f2c4f2d48d4009b6372e147f9d7fe5",
            "411c2a425cde4790845fb5ce1777b088"
          ]
        },
        "id": "Hydzp5vuipqr",
        "outputId": "592475cd-3541-4e42-d84e-f0228967317d"
      },
      "execution_count": 22,
      "outputs": [
        {
          "output_type": "stream",
          "name": "stdout",
          "text": [
            "Generating critique for each QA couple\n"
          ]
        },
        {
          "output_type": "display_data",
          "data": {
            "text/plain": [
              "  0%|          | 0/100 [00:00<?, ?it/s]"
            ],
            "application/vnd.jupyter.widget-view+json": {
              "version_major": 2,
              "version_minor": 0,
              "model_id": "9329557152514dd6811f71d8a15e3478"
            }
          },
          "metadata": {}
        },
        {
          "output_type": "stream",
          "name": "stdout",
          "text": [
            "invalid literal for int() with base 10: \"5\\nEvaluation: The question is clearly and unambiguously answerable with the provided context. The context states that the Biden administration is signaling to Congress that they are open to supporti\n",
            "invalid literal for int() with base 10: 'The question refers to a specific document written by a specific entity (Israeli Ministry of Intelligence) about a specific event (the transfer of Palestinian civilians at the end of the war in Gaza)\n",
            "list index out of range\n",
            "invalid literal for int() with base 10: '3.5 (Since the question is relatively context-independent, but it does depend on some specific information about the person making the statement.)'\n",
            "invalid literal for int() with base 10: '2.5'\n",
            "invalid literal for int() with base 10: '5.0'\n",
            "invalid literal for int() with base 10: '3\\n\\nEvaluation: While the context does mention that the high school will be remodeled and enlarged, it does not provide a specific amount for what taxpayers should expect to pay for this renovation.\n",
            "invalid literal for int() with base 10: '3.5\\n\\nReference(s):\\nhttps://www.aljazeera.com/news/2021/5/24/israel-gaza-truce-talks-hope-but-no-end-to-suffering\\nhttps://www.bbc.com/news/world-middle-east-57045527\\nhttps://www.reuters.com/world\n"
          ]
        }
      ]
    },
    {
      "cell_type": "code",
      "source": [
        "df_outputs=pd.DataFrame(outputs)"
      ],
      "metadata": {
        "id": "x3rE7NSoiptM"
      },
      "execution_count": 23,
      "outputs": []
    },
    {
      "cell_type": "code",
      "source": [
        "df_outputs = df_outputs.dropna()"
      ],
      "metadata": {
        "id": "1RH6guSdtn3w"
      },
      "execution_count": 24,
      "outputs": []
    },
    {
      "cell_type": "code",
      "source": [
        "df_outputs.shape"
      ],
      "metadata": {
        "colab": {
          "base_uri": "https://localhost:8080/"
        },
        "id": "dfBK6KNltn8j",
        "outputId": "1065182b-a200-40dd-c45d-e5cf5f683067"
      },
      "execution_count": 25,
      "outputs": [
        {
          "output_type": "execute_result",
          "data": {
            "text/plain": [
              "(92, 9)"
            ]
          },
          "metadata": {},
          "execution_count": 25
        }
      ]
    },
    {
      "cell_type": "code",
      "source": [
        "filtered_df_outputs = df_outputs.loc[\n",
        "    (df_outputs[\"question_groundedness_score\"] >= 4)\n",
        "    & (df_outputs[\"question_standalone_score\"] >= 4)\n",
        "]"
      ],
      "metadata": {
        "id": "V9lV2rWnt6Gy"
      },
      "execution_count": 26,
      "outputs": []
    },
    {
      "cell_type": "code",
      "source": [
        "filtered_df_outputs.shape"
      ],
      "metadata": {
        "colab": {
          "base_uri": "https://localhost:8080/"
        },
        "id": "h7WVTqDtt6WI",
        "outputId": "82e7e596-215b-41e3-ac5b-ef6ba79a7e00"
      },
      "execution_count": 27,
      "outputs": [
        {
          "output_type": "execute_result",
          "data": {
            "text/plain": [
              "(35, 9)"
            ]
          },
          "metadata": {},
          "execution_count": 27
        }
      ]
    },
    {
      "cell_type": "code",
      "source": [
        "filtered_df_outputs.head()"
      ],
      "metadata": {
        "id": "6pQJgyBRvRnR"
      },
      "execution_count": null,
      "outputs": []
    },
    {
      "cell_type": "code",
      "source": [
        "df = pd.read_csv('qa_data.csv')"
      ],
      "metadata": {
        "id": "IMkBciZ-vXz8"
      },
      "execution_count": 30,
      "outputs": []
    },
    {
      "cell_type": "code",
      "source": [
        "df.drop(columns=['Unnamed: 0'],inplace=True)"
      ],
      "metadata": {
        "id": "JgtZBUawvffp"
      },
      "execution_count": 32,
      "outputs": []
    },
    {
      "cell_type": "code",
      "source": [],
      "metadata": {
        "id": "yS_e3cnSvfwz"
      },
      "execution_count": null,
      "outputs": []
    },
    {
      "cell_type": "code",
      "source": [
        "# load qa_data.csv and merge the currently constructede df to it\n",
        "\n",
        "merged_df = pd.concat([df, filtered_df_outputs], ignore_index=True)\n"
      ],
      "metadata": {
        "id": "qlQ9Z57oukin"
      },
      "execution_count": 34,
      "outputs": []
    },
    {
      "cell_type": "code",
      "source": [
        "# save the merged data\n",
        "merged_df.to_csv('qa_data.csv')"
      ],
      "metadata": {
        "id": "nJ-kk64qkq0u"
      },
      "execution_count": 35,
      "outputs": []
    },
    {
      "cell_type": "code",
      "source": [
        "qa_data = pd.read_csv('qa_data.csv')"
      ],
      "metadata": {
        "id": "jnPSXkd_x5jN"
      },
      "execution_count": 58,
      "outputs": []
    },
    {
      "cell_type": "code",
      "source": [
        "qa_data.drop(columns=[\"Unnamed: 0\"],inplace=True)"
      ],
      "metadata": {
        "id": "ozFsSG1bx92D"
      },
      "execution_count": 59,
      "outputs": []
    },
    {
      "cell_type": "code",
      "source": [
        "eval_dataset = datasets.Dataset.from_pandas(qa_data, split=\"train\", preserve_index=False)"
      ],
      "metadata": {
        "id": "eway1GaLwRTn"
      },
      "execution_count": 60,
      "outputs": []
    },
    {
      "cell_type": "code",
      "source": [
        "eval_dataset"
      ],
      "metadata": {
        "colab": {
          "base_uri": "https://localhost:8080/"
        },
        "id": "-y_aHLY_xD6z",
        "outputId": "a3e983e0-050f-4d25-d668-33f948f46bdb"
      },
      "execution_count": 61,
      "outputs": [
        {
          "output_type": "execute_result",
          "data": {
            "text/plain": [
              "Dataset({\n",
              "    features: ['question', 'answer', 'context', 'source', 'title', 'question_groundedness_score', 'question_groundedness_evaluation', 'question_standalone_score', 'question_standalone_evaluation'],\n",
              "    num_rows: 91\n",
              "})"
            ]
          },
          "metadata": {},
          "execution_count": 61
        }
      ]
    },
    {
      "cell_type": "code",
      "source": [
        "from google.colab import userdata\n",
        "import os\n",
        "cohere_key=userdata.get('COHERE_API_KEY')\n",
        "os.environ['COHERE_API_KEY']=cohere_key"
      ],
      "metadata": {
        "id": "kJdjqG6H5LbT"
      },
      "execution_count": 62,
      "outputs": []
    },
    {
      "cell_type": "code",
      "source": [
        "from langchain_cohere import CohereEmbeddings\n",
        "# embeddings = CohereEmbeddings(model=\"embed-english-light-v3.0\")"
      ],
      "metadata": {
        "id": "EMmm4GIpyQm-"
      },
      "execution_count": 76,
      "outputs": []
    },
    {
      "cell_type": "code",
      "source": [],
      "metadata": {
        "id": "QYTQ0NxTyQqA"
      },
      "execution_count": null,
      "outputs": []
    },
    {
      "cell_type": "code",
      "source": [],
      "metadata": {
        "id": "XmHga6u0yQs6"
      },
      "execution_count": null,
      "outputs": []
    },
    {
      "cell_type": "code",
      "source": [],
      "metadata": {
        "id": "g1yupk21yQvw"
      },
      "execution_count": null,
      "outputs": []
    },
    {
      "cell_type": "code",
      "source": [],
      "metadata": {
        "id": "WxNRcp0PyQyu"
      },
      "execution_count": null,
      "outputs": []
    },
    {
      "cell_type": "code",
      "source": [],
      "metadata": {
        "id": "nSx0K4ykyQ1n"
      },
      "execution_count": null,
      "outputs": []
    },
    {
      "cell_type": "code",
      "source": [],
      "metadata": {
        "id": "Fzmu-0xmyQ49"
      },
      "execution_count": null,
      "outputs": []
    },
    {
      "cell_type": "code",
      "source": [],
      "metadata": {
        "id": "Y0XVMObuyQ8P"
      },
      "execution_count": null,
      "outputs": []
    },
    {
      "cell_type": "code",
      "source": [
        "metadata = [\n",
        "    {key: value for key, value in item.items() if key not in ['articleBody','scrapedDate','dateModified']}\n",
        "    for item in random_articles\n",
        "]"
      ],
      "metadata": {
        "id": "mlcbbGyNEjuE"
      },
      "execution_count": 11,
      "outputs": []
    },
    {
      "cell_type": "code",
      "source": [],
      "metadata": {
        "id": "1kqviRaXxDHW"
      },
      "execution_count": null,
      "outputs": []
    },
    {
      "cell_type": "code",
      "source": [
        "article_bodies = [item['articleBody'] for item in random_articles]"
      ],
      "metadata": {
        "id": "V9kY0MzvHVT0"
      },
      "execution_count": 12,
      "outputs": []
    },
    {
      "cell_type": "code",
      "source": [
        "text_splitter = RecursiveCharacterTextSplitter(chunk_size=2500,chunk_overlap=200,add_start_index=True,separators=[\"\\n\",\"\\n\\n\",\".\",\"\",\" \"])"
      ],
      "metadata": {
        "id": "R1FVwkOfGBeN"
      },
      "execution_count": 12,
      "outputs": []
    },
    {
      "cell_type": "code",
      "source": [
        "texts = text_splitter.create_documents(texts=article_bodies,metadatas=metadata)"
      ],
      "metadata": {
        "id": "Rf174Gg8Gt0X"
      },
      "execution_count": 18,
      "outputs": []
    },
    {
      "cell_type": "code",
      "source": [],
      "metadata": {
        "id": "SOwOBkkfHAYd"
      },
      "execution_count": null,
      "outputs": []
    },
    {
      "cell_type": "code",
      "source": [
        "question_groundedness_critique_prompt = \"\"\"\n",
        "You will be given a context and a question.\n",
        "Your task is to provide a 'total rating' scoring how well one can answer the given question unambiguously with the given context.\n",
        "Give your answer on a scale of 1 to 5, where 1 means that the question is not answerable at all given the context, and 5 means that the question is clearly and unambiguously answerable with the context.\n",
        "\n",
        "Provide your answer as follows:\n",
        "\n",
        "Answer:::\n",
        "Evaluation: (your rationale for the rating, as a text)\n",
        "Total rating: (your rating, as a number between 1 and 5)\n",
        "\n",
        "You MUST provide values for 'Evaluation:' and 'Total rating:' in your answer.\n",
        "\n",
        "Now here are the question and context.\n",
        "\n",
        "Question: {question}\\n\n",
        "Context: {context}\\n\n",
        "Answer::: \"\"\""
      ],
      "metadata": {
        "id": "Fa14BbotJJXA"
      },
      "execution_count": 34,
      "outputs": []
    },
    {
      "cell_type": "code",
      "source": [
        "question_standalone_critique_prompt = \"\"\"\n",
        "You will be given a question.\n",
        "Your task is to provide a 'total rating' representing how context-independant this question is.\n",
        "Give your answer on a scale of 1 to 5, where 1 means that the question depends on additional information to be understood, and 5 means that the question makes sense by itself.\n",
        "For instance, if the question refers to a particular setting, like 'in the context' or 'in the document', the rating must be 1.\n",
        "The questions can contain obscure technical nouns or acronyms like Gradio, Hub, Hugging Face or Space and still be a 5: it must simply be clear to an operator with access to documentation what the question is about.\n",
        "\n",
        "For instance, \"What is the name of the checkpoint from which the ViT model is imported?\" should receive a 1, since there is an implicit mention of a context, thus the question is not independant from the context.\n",
        "\n",
        "Provide your answer as follows:\n",
        "\n",
        "Answer:::\n",
        "Evaluation: (your rationale for the rating, as a text)\n",
        "Total rating: (your rating, as a number between 1 and 5)\n",
        "\n",
        "You MUST provide values for 'Evaluation:' and 'Total rating:' in your answer.\n",
        "\n",
        "Now here is the question.\n",
        "\n",
        "Question: {question}\\n\n",
        "Answer::: \"\"\""
      ],
      "metadata": {
        "id": "CGf_5y8NJJZ0"
      },
      "execution_count": 35,
      "outputs": []
    },
    {
      "cell_type": "code",
      "source": [
        "print(\"Generating critique for each QA couple\")\n",
        "\n",
        "for output in tqdm(outputs):\n",
        "  evaluations = {\n",
        "      \"question_groundedness\":generate_response(\n",
        "          llm,question_groundedness_critique_prompt.format(context=output[\"context\"],question=output[\"question\"])\n",
        "          ),\n",
        "      \"question_standalone\":generate_response(\n",
        "          llm,question_standalone_critique_prompt.format(question=output[\"question\"])\n",
        "      )\n",
        "  }\n",
        "  try:\n",
        "    for criterion, evaluation in evaluations.items():\n",
        "      score,eval = (\n",
        "          int(evaluation.split(\"Total rating: \")[-1].strip()),\n",
        "          evaluation.split(\"Total rating: \")[-2].split(\"Evaluation: \")[1]\n",
        "      )\n",
        "      output.update(\n",
        "          {\n",
        "              f\"{criterion}_score\":score,\n",
        "              f\"{criterion}_evaluation\":eval\n",
        "          }\n",
        "      )\n",
        "  except Exception as e:\n",
        "    print(e)\n",
        "    continue\n",
        ""
      ],
      "metadata": {
        "id": "QXPLBd3rJJcr"
      },
      "execution_count": null,
      "outputs": []
    },
    {
      "cell_type": "code",
      "source": [],
      "metadata": {
        "id": "SZuNzCE9JJff"
      },
      "execution_count": null,
      "outputs": []
    },
    {
      "cell_type": "code",
      "source": [],
      "metadata": {
        "id": "yyUfHk44JJh9"
      },
      "execution_count": null,
      "outputs": []
    },
    {
      "cell_type": "code",
      "source": [],
      "metadata": {
        "id": "KcHM52xlJJk5"
      },
      "execution_count": null,
      "outputs": []
    },
    {
      "cell_type": "code",
      "source": [],
      "metadata": {
        "id": "D454KnRHJJnL"
      },
      "execution_count": null,
      "outputs": []
    },
    {
      "cell_type": "code",
      "source": [],
      "metadata": {
        "id": "UgJ7LTZ4JJqF"
      },
      "execution_count": null,
      "outputs": []
    },
    {
      "cell_type": "code",
      "source": [],
      "metadata": {
        "id": "ncfgxCEGJJs4"
      },
      "execution_count": null,
      "outputs": []
    },
    {
      "cell_type": "code",
      "source": [],
      "metadata": {
        "id": "5PTu-uF1JJvV"
      },
      "execution_count": null,
      "outputs": []
    },
    {
      "cell_type": "code",
      "source": [],
      "metadata": {
        "id": "KmRChSvoJJx3"
      },
      "execution_count": null,
      "outputs": []
    },
    {
      "cell_type": "markdown",
      "source": [
        "# RAG SYSTEM"
      ],
      "metadata": {
        "id": "b8HM_9nu5fLy"
      }
    },
    {
      "cell_type": "code",
      "source": [
        "from typing import Optional,List,Tuple"
      ],
      "metadata": {
        "id": "KBFUCiC-7tHq"
      },
      "execution_count": 63,
      "outputs": []
    },
    {
      "cell_type": "code",
      "source": [
        "RAW_KNOWLEDGE_BASE = [\n",
        "    LangchainDocument(page_content=doc['articleBody'],metadata={\"source\":doc['source'],\"title\":doc[\"title\"]}) for doc in random_articles\n",
        "]"
      ],
      "metadata": {
        "id": "LuiPFVQ75cys"
      },
      "execution_count": 64,
      "outputs": []
    },
    {
      "cell_type": "code",
      "source": [
        "def split_documents(\n",
        "    chunk_size: int,\n",
        "    knowledge_base: List[LangchainDocument],\n",
        "    tokenizer_name:str\n",
        "):\n",
        "  text_splitter = RecursiveCharacterTextSplitter(\n",
        "      chunk_size=chunk_size,chunk_overlap=int(chunk_size/10),add_start_index=True,separators=[\"\\n\",\"\\n\\n\",\".\",\"\",\" \"]\n",
        "      )\n",
        "\n",
        "  docs_processed=[]\n",
        "\n",
        "  for doc in knowledge_base:\n",
        "    docs_processed += text_splitter.split_documents([doc])\n",
        "\n",
        "  unique_texts = {}\n",
        "  docs_processed_unique = []\n",
        "\n",
        "  for doc in docs_processed:\n",
        "    if doc.page_content not in unique_texts:\n",
        "      unique_texts[doc.page_content]=True\n",
        "      docs_processed_unique.append(doc)\n",
        "\n",
        "  return docs_processed_unique\n",
        "\n"
      ],
      "metadata": {
        "id": "LYzFbWNn5c1x"
      },
      "execution_count": 82,
      "outputs": []
    },
    {
      "cell_type": "markdown",
      "source": [
        "# Retriever-Embedding"
      ],
      "metadata": {
        "id": "VVo0xLDi8DFy"
      }
    },
    {
      "cell_type": "code",
      "source": [
        "pip install faiss-gpu"
      ],
      "metadata": {
        "colab": {
          "base_uri": "https://localhost:8080/"
        },
        "id": "V7nOe9OnCiq2",
        "outputId": "7f84f9d4-5e05-487e-cfbd-9def81e85261"
      },
      "execution_count": 84,
      "outputs": [
        {
          "output_type": "stream",
          "name": "stdout",
          "text": [
            "Collecting faiss-gpu\n",
            "  Downloading faiss_gpu-1.7.2-cp310-cp310-manylinux_2_17_x86_64.manylinux2014_x86_64.whl (85.5 MB)\n",
            "\u001b[2K     \u001b[90m━━━━━━━━━━━━━━━━━━━━━━━━━━━━━━━━━━━━━━━━\u001b[0m \u001b[32m85.5/85.5 MB\u001b[0m \u001b[31m4.8 MB/s\u001b[0m eta \u001b[36m0:00:00\u001b[0m\n",
            "\u001b[?25hInstalling collected packages: faiss-gpu\n",
            "Successfully installed faiss-gpu-1.7.2\n"
          ]
        }
      ]
    },
    {
      "cell_type": "code",
      "source": [
        "from langchain.vectorstores import FAISS\n",
        "from langchain.embeddings import CohereEmbeddings\n",
        "from langchain_community.vectorstores.utils import DistanceStrategy\n",
        "from langchain_cohere import CohereEmbeddings\n",
        "import os"
      ],
      "metadata": {
        "id": "DSaXj4845c44"
      },
      "execution_count": 66,
      "outputs": []
    },
    {
      "cell_type": "code",
      "source": [
        "def load_embeddings(\n",
        "    langchain_docs: List[LangchainDocument],\n",
        "    chunk_size:int,\n",
        "    embeddings_model: Optional[str]=\"thenlper/get-small\",\n",
        ")->FAISS:\n",
        "\n",
        "  embedding_model = CohereEmbeddings(model=embeddings_model)\n",
        "  index_name = f\"index_chunk:{chunk_size}_embeddings:{embeddings_model.replace('/','~')}\"\n",
        "  index_folder_path = f\"./data/indexes/{index_name}\"\n",
        "\n",
        "  if os.path.isdir(index_folder_path):\n",
        "    return FAISS.load_local(\n",
        "        index_folder_path,\n",
        "        embedding_model,\n",
        "        distance_strategy=DistanceStrategy.COSINE\n",
        "    )\n",
        "  else:\n",
        "    docs_processed = split_documents(\n",
        "        chunk_size,\n",
        "        langchain_docs,\n",
        "        embeddings_model\n",
        "    )\n",
        "\n",
        "    knowledge_index = FAISS.from_documents(\n",
        "        docs_processed,\n",
        "        embedding_model,\n",
        "        distance_strategy=DistanceStrategy.COSINE\n",
        "    )\n",
        "    knowledge_index.save_local(index_folder_path)\n",
        "    return knowledge_index"
      ],
      "metadata": {
        "id": "EcSGyPtO5c7Q"
      },
      "execution_count": 67,
      "outputs": []
    },
    {
      "cell_type": "markdown",
      "source": [
        "# READER_LLM"
      ],
      "metadata": {
        "id": "vlLlOkGC-q6S"
      }
    },
    {
      "cell_type": "code",
      "source": [
        "READER_LLM = HuggingFaceEndpoint(\n",
        "    repo_id=\"mistralai/Mistral-7B-Instruct-v0.3\",\n",
        "    task=\"text-generation\",\n",
        "    max_new_tokens=1000,\n",
        "    do_sample=False,\n",
        ")"
      ],
      "metadata": {
        "id": "0XRVpyRhBxZx"
      },
      "execution_count": 68,
      "outputs": []
    },
    {
      "cell_type": "code",
      "source": [
        "RAG_PROMPT_TEMPLATE = \"\"\"\n",
        "<|system|>\n",
        "Using the information contained in the context,\n",
        "give a comprehensive answer to the question.\n",
        "Respond only to the question asked, response should be concise and relevant to the question.\n",
        "Provide the number of the source document when relevant.\n",
        "If the answer cannot be deduced from the context, do not give an answer.</s>\n",
        "<|user|>\n",
        "Context:\n",
        "{context}\n",
        "---\n",
        "Now here is the question you need to answer.\n",
        "\n",
        "Question: {question}\n",
        "</s>\n",
        "<|assistant|>\n",
        "\"\"\""
      ],
      "metadata": {
        "id": "R7RxE2W_AXtP"
      },
      "execution_count": 69,
      "outputs": []
    },
    {
      "cell_type": "code",
      "source": [
        "def answer_with_rag(\n",
        "    question:str,\n",
        "    llm,\n",
        "    knowledge_index,\n",
        "    reranker=None,\n",
        "    num_retrieved_docs:int=10,\n",
        "    num_docs_final:int=3\n",
        ")->Tuple[str,List[LangchainDocument]]:\n",
        "\n",
        "  relevant_docs = knowledge_index.similarity_search(question,k=num_retrieved_docs)\n",
        "  relevant_docs = [doc.page_content for doc in relevant_docs]\n",
        "\n",
        "  if reranker:\n",
        "    pass\n",
        "\n",
        "  relevant_docs = relevant_docs[:num_docs_final]\n",
        "\n",
        "  context = \"\\nExtracted documents:\\n\"\n",
        "  context += \"\".join([f\"Document {str(i)}:::\\n\" + doc for i, doc in enumerate(relevant_docs)])\n",
        "\n",
        "  final_prompt = RAG_PROMPT_TEMPLATE.format(context=context,question=question)\n",
        "\n",
        "  answer = llm(final_prompt)\n",
        "\n",
        "  return answer,relevant_docs\n",
        "\n",
        "\n",
        "\n",
        ""
      ],
      "metadata": {
        "id": "tZrlK_gx5c92"
      },
      "execution_count": 70,
      "outputs": []
    },
    {
      "cell_type": "markdown",
      "source": [
        "# Benchmarking RAG"
      ],
      "metadata": {
        "id": "_IByfhYACAdB"
      }
    },
    {
      "cell_type": "code",
      "source": [
        "def run_rag_tests(\n",
        "    eval_dataset: datasets.Dataset,\n",
        "    llm,\n",
        "    knowledge_index,\n",
        "    output_file:str,\n",
        "    reranker=None,\n",
        "    verbose: Optional[bool]=True,\n",
        "    test_settings:Optional[str]=None\n",
        "):\n",
        "  try:\n",
        "    with open(output_file,\"r\") as f:\n",
        "      outputs = json.load(f)\n",
        "  except:\n",
        "    outputs=[]\n",
        "\n",
        "  for example in tqdm(eval_dataset):\n",
        "    question = example[\"question\"]\n",
        "    if question in [output[\"question\"] for output in outputs]:\n",
        "      continue\n",
        "\n",
        "    answer, relevant_docs = answer_with_rag(\n",
        "        question,\n",
        "        llm,\n",
        "        knowledge_index,\n",
        "        reranker=reranker\n",
        "    )\n",
        "    if verbose:\n",
        "      print(\"=================================================================================\")\n",
        "      print(f\"Question: {question}\")\n",
        "      print(f\"Answer: {answer}\")\n",
        "      print(f\"True answer: {example['answer']}\")\n",
        "\n",
        "    result = {\n",
        "        \"question\":question,\n",
        "        \"true_answer\":example[\"answer\"],\n",
        "        \"source_doc\":example[\"source\"],\n",
        "        \"generated_answer\":answer,\n",
        "        \"retrieved_docs\":[doc for doc in relevant_docs]\n",
        "    }\n",
        "\n",
        "    if test_settings:\n",
        "      result[\"test_settings\"] = test_settings\n",
        "\n",
        "    outputs.append(result)\n",
        "\n",
        "    with open(output_file,\"w\") as f:\n",
        "      json.dump(outputs,f)"
      ],
      "metadata": {
        "id": "JLxOqVq_CGB-"
      },
      "execution_count": 94,
      "outputs": []
    },
    {
      "cell_type": "code",
      "source": [
        "EVALUATION_PROMPT = \"\"\"###Task Description:\n",
        "An instruction (might include an Input inside it), a response to evaluate, a reference answer that gets a score of 5, and a score rubric representing a evaluation criteria are given.\n",
        "1. Write a detailed feedback that assess the quality of the response strictly based on the given score rubric, not evaluating in general.\n",
        "2. After writing a feedback, write a score that is an integer between 1 and 5. You should refer to the score rubric.\n",
        "3. The output format should look as follows: \\\"Feedback: {{write a feedback for criteria}} [RESULT] {{an integer number between 1 and 5}}\\\"\n",
        "4. Please do not generate any other opening, closing, and explanations. Be sure to include [RESULT] in your output.\n",
        "\n",
        "###The instruction to evaluate:\n",
        "{instruction}\n",
        "\n",
        "###Response to evaluate:\n",
        "{response}\n",
        "\n",
        "###Reference Answer (Score 5):\n",
        "{reference_answer}\n",
        "\n",
        "###Score Rubrics:\n",
        "[Is the response correct, accurate, and factual based on the reference answer?]\n",
        "Score 1: The response is completely incorrect, inaccurate, and/or not factual.\n",
        "Score 2: The response is mostly incorrect, inaccurate, and/or not factual.\n",
        "Score 3: The response is somewhat correct, accurate, and/or factual.\n",
        "Score 4: The response is mostly correct, accurate, and factual.\n",
        "Score 5: The response is completely correct, accurate, and factual.\n",
        "\n",
        "###Feedback:\"\"\""
      ],
      "metadata": {
        "id": "G3Mv9m9K5dBP"
      },
      "execution_count": 72,
      "outputs": []
    },
    {
      "cell_type": "code",
      "source": [
        "from langchain.prompts.chat import (\n",
        "    ChatPromptTemplate,\n",
        "    HumanMessagePromptTemplate\n",
        ")\n",
        "\n",
        "from langchain.schema import SystemMessage"
      ],
      "metadata": {
        "id": "XXxaeMSz5dEr"
      },
      "execution_count": 73,
      "outputs": []
    },
    {
      "cell_type": "code",
      "source": [
        "evaluation_prompt_template = ChatPromptTemplate.from_messages(\n",
        "    [\n",
        "        SystemMessage(content=\"You are a fair evaluator language model.\"),\n",
        "        HumanMessagePromptTemplate.from_template(EVALUATION_PROMPT)\n",
        "    ]\n",
        ")"
      ],
      "metadata": {
        "id": "hfCAGwCb5dMD"
      },
      "execution_count": 97,
      "outputs": []
    },
    {
      "cell_type": "code",
      "source": [
        "%pip install -qU langchain-groq"
      ],
      "metadata": {
        "id": "Peup3ltk_Tbw"
      },
      "execution_count": 75,
      "outputs": []
    },
    {
      "cell_type": "code",
      "source": [
        "from langchain_groq import ChatGroq"
      ],
      "metadata": {
        "id": "4u1zBAbi_oEp"
      },
      "execution_count": 46,
      "outputs": []
    },
    {
      "cell_type": "code",
      "source": [
        "from google.colab import userdata\n",
        "import os\n",
        "groq_key=userdata.get('GROQ_API_KEY')\n",
        "os.environ['GROQ_API_KEY']=groq_key"
      ],
      "metadata": {
        "id": "b2Swa0U5_xXF"
      },
      "execution_count": 50,
      "outputs": []
    },
    {
      "cell_type": "code",
      "source": [
        "eval_chat_model=ChatGroq(\n",
        "    temperature=0,\n",
        "    model=\"llama3-70b-8192\"\n",
        ")\n",
        "evaluator_name=\"Groq_llama\""
      ],
      "metadata": {
        "id": "ngkIekzZ5dOw"
      },
      "execution_count": 77,
      "outputs": []
    },
    {
      "cell_type": "code",
      "source": [
        "def evaluate_answers(\n",
        "    answer_path:str,\n",
        "    eval_chat_model,\n",
        "    evaluator_name,\n",
        "    evaluation_prompt_template:ChatPromptTemplate\n",
        ")->None:\n",
        "  answers = []\n",
        "\n",
        "  if os.path.isfile(answer_path):\n",
        "    answers = json.load(open(answer_path,\"r\"))\n",
        "\n",
        "  for experiment in tqdm(answers):\n",
        "    if f\"eval_score_{evaluator_name}\" in experiment:\n",
        "      continue\n",
        "    eval_prompt = evaluation_prompt_template.format_messages(\n",
        "        instruction = experiment[\"question\"],\n",
        "        response = experiment[\"generated_answer\"],\n",
        "        reference_answer = experiment[\"true_answer\"]\n",
        "    )\n",
        "    eval_result = eval_chat_model(eval_prompt)\n",
        "    feedback,score = [item.strip() for item in eval_result.content.split(\"[RESULT]\")]\n",
        "    experiment[f\"eval_score_{evaluator_name}\"] = score\n",
        "    experiment[f\"eval_feedback_{evaluator_name}\"] = feedback\n",
        "\n",
        "\n",
        "    with open(answer_path,\"w\") as f:\n",
        "      json.dump(answers,f)"
      ],
      "metadata": {
        "id": "ALpSdWwR5dRo"
      },
      "execution_count": 95,
      "outputs": []
    },
    {
      "cell_type": "code",
      "source": [
        "knowledge_index = load_embeddings(\n",
        "    RAW_KNOWLEDGE_BASE,\n",
        "    chunk_size=2500,\n",
        "    embeddings_model=\"embed-english-light-v3.0\"\n",
        ")"
      ],
      "metadata": {
        "id": "sEi13rLMH_hk"
      },
      "execution_count": 96,
      "outputs": []
    },
    {
      "cell_type": "code",
      "source": [
        "if not os.path.isdir(\"./output\"):\n",
        "  os.mkdir(\"./output\")\n",
        "\n",
        "for chunk_size in [2500]:\n",
        "  for embeddings in [\"embed-english-light-v3.0\"]:\n",
        "    for rerank in [False]:\n",
        "      settings_name = f\"chunk_size:{chunk_size}_embeddings:{embeddings.replace('/','~')}_rerank:{rerank}_readerModel:{READER_LLM}\"\n",
        "      output_file_name = f\"./output/rag_{settings_name}.json\"\n",
        "\n",
        "      print(f\"Running RAG with settings: {settings_name}\")\n",
        "\n",
        "      print(\"Loading knowledge base emeddings...\")\n",
        "\n",
        "      # knowledge_index = load_embeddings(\n",
        "      #     RAW_KNOWLEDGE_BASE,\n",
        "      #     chunk_size=chunk_size,\n",
        "      #     embeddings_model=embeddings\n",
        "      # )\n",
        "\n",
        "      print(\"Running RAG...\")\n",
        "\n",
        "      reranker = None\n",
        "\n",
        "      run_rag_tests(\n",
        "          eval_dataset=eval_dataset,\n",
        "          llm=READER_LLM,\n",
        "          knowledge_index=knowledge_index,\n",
        "          output_file=output_file_name,\n",
        "          reranker=reranker,\n",
        "          verbose=False,\n",
        "          test_settings=settings_name\n",
        "      )\n",
        "\n",
        "      print(\"Running evaluation...\")\n",
        "      evaluate_answers(\n",
        "          output_file_name,\n",
        "          eval_chat_model,\n",
        "          evaluator_name,\n",
        "          evaluation_prompt_template\n",
        "      )\n",
        "\n",
        "\n"
      ],
      "metadata": {
        "colab": {
          "base_uri": "https://localhost:8080/",
          "height": 222,
          "referenced_widgets": [
            "bf7902e168ac41b59c745ca7257cafde",
            "0459beadf80247e2969f6534822a8019",
            "71bdd4ca979a425f961a0e136a7c779f",
            "624cc4c0f5134c5daf8e61c5a446d6c3",
            "35a35ad012b446389fdfc56e8cd8890e",
            "13469001d1b5485183f3d176740a2c5b",
            "db9d32e2c1f543ea9cfedb77108dfc6f",
            "241c09ba76224cf69d8f3562077e61d5",
            "6f0c76ad4a2a44b8801b39fe2d6097cc",
            "b5a77f94cad24470b9067f62d2c3d6e9",
            "f69caf4dbbd94e918bdb13940558c869",
            "5d5e4557c00d4bf28f53e054e52c1a96",
            "f25d03a5faa24fc7a8cc1db6441c04ec",
            "4a52e40a296444c594d3e5cd06535920",
            "7b43982ac8564e6ba4bbb5aea302a2ff",
            "389b89fe305547e5a0ac79c11d88b76c",
            "a06f34cef08242e5b7eb34f391090d28",
            "e9b5972f48f54788b53b382f5b4459a4",
            "05b1d47156b447dc89bd4bb0f3158244",
            "761dce26062a483292b65df02c2750d5",
            "31010160bee5428c84b1ca7689bb59a4",
            "001cfbc2041a4d7993075791f34b1399"
          ]
        },
        "id": "PBqHKglu5dUM",
        "outputId": "16749349-af2f-4a1e-978c-692dac2c0f09"
      },
      "execution_count": 99,
      "outputs": [
        {
          "output_type": "stream",
          "name": "stdout",
          "text": [
            "Running RAG with settings: chunk_size:2500_embeddings:embed-english-light-v3.0_rerank:False_readerModel:\u001b[1mHuggingFaceEndpoint\u001b[0m\n",
            "Params: {'endpoint_url': None, 'task': 'text-generation', 'model_kwargs': {}}\n",
            "Loading knowledge base emeddings...\n",
            "Running RAG...\n"
          ]
        },
        {
          "output_type": "display_data",
          "data": {
            "text/plain": [
              "  0%|          | 0/91 [00:00<?, ?it/s]"
            ],
            "application/vnd.jupyter.widget-view+json": {
              "version_major": 2,
              "version_minor": 0,
              "model_id": "bf7902e168ac41b59c745ca7257cafde"
            }
          },
          "metadata": {}
        },
        {
          "output_type": "stream",
          "name": "stdout",
          "text": [
            "Running evaluation...\n"
          ]
        },
        {
          "output_type": "display_data",
          "data": {
            "text/plain": [
              "  0%|          | 0/90 [00:00<?, ?it/s]"
            ],
            "application/vnd.jupyter.widget-view+json": {
              "version_major": 2,
              "version_minor": 0,
              "model_id": "5d5e4557c00d4bf28f53e054e52c1a96"
            }
          },
          "metadata": {}
        },
        {
          "output_type": "stream",
          "name": "stderr",
          "text": [
            "/usr/local/lib/python3.10/dist-packages/langchain_core/_api/deprecation.py:139: LangChainDeprecationWarning: The method `BaseChatModel.__call__` was deprecated in langchain-core 0.1.7 and will be removed in 0.3.0. Use invoke instead.\n",
            "  warn_deprecated(\n"
          ]
        }
      ]
    },
    {
      "cell_type": "markdown",
      "source": [
        "# inspect result"
      ],
      "metadata": {
        "id": "iayNFhWlRQLh"
      }
    },
    {
      "cell_type": "code",
      "source": [
        "import glob"
      ],
      "metadata": {
        "id": "KRaLhMCQ5dXM"
      },
      "execution_count": 100,
      "outputs": []
    },
    {
      "cell_type": "code",
      "source": [
        "outputs = []\n",
        "for file in glob.glob(\"./output/*.json\"):\n",
        "  output = pd.DataFrame(json.load(open(file,\"r\")))\n",
        "  output[\"settings\"] = file\n",
        "  outputs.append(output)\n",
        "\n",
        "result = pd.concat(outputs)"
      ],
      "metadata": {
        "id": "fKAwBfSr5dZz"
      },
      "execution_count": 110,
      "outputs": []
    },
    {
      "cell_type": "code",
      "source": [
        "result.head()"
      ],
      "metadata": {
        "colab": {
          "base_uri": "https://localhost:8080/",
          "height": 573
        },
        "id": "Q6vdEq1WM8e-",
        "outputId": "2fdba6fc-8613-495c-c194-9f6c73402f16"
      },
      "execution_count": 111,
      "outputs": [
        {
          "output_type": "execute_result",
          "data": {
            "text/plain": [
              "                                            question  \\\n",
              "0  What type of guidance does the PAC-3 missile u...   \n",
              "1  Who does Francesca admire for taking tangible,...   \n",
              "2  What company provides the most comprehensive C...   \n",
              "3  What has the Gaza Health Ministry stated about...   \n",
              "4  How many people have been driven from their ho...   \n",
              "\n",
              "                                         true_answer  \\\n",
              "0  The PAC-3 missile uses Track-Via-Missile (TVM)...   \n",
              "1  Francesca admires artists who not only speak o...   \n",
              "2                                         GlobalData   \n",
              "3  Hospitals in southern Gaza have collapsed and ...   \n",
              "4  Nearly 85% of the territory’s 2.3 million peop...   \n",
              "\n",
              "                        source_doc  \\\n",
              "0  https://www.washingtonpost.com/   \n",
              "1        https://thefortyfive.com/   \n",
              "2    https://www.energymonitor.ai/   \n",
              "3    https://www.democracynow.org/   \n",
              "4        https://nagalandpost.com/   \n",
              "\n",
              "                                    generated_answer  \\\n",
              "0  The PAC-3 missile uses Track-Via-Missile (TVM)...   \n",
              "1  Francesca Albanese admires Ancel Langwa, who i...   \n",
              "2  The company that provides the most comprehensi...   \n",
              "3   The Gaza Health Ministry stated that the two ...   \n",
              "4  According to the context, 1.87 million people ...   \n",
              "\n",
              "                                      retrieved_docs  \\\n",
              "0  [. Some newer models of these systems have dif...   \n",
              "1  [To the tens of thousands of people who follow...   \n",
              "2  [How well do you really know your competitors?...   \n",
              "3  [Health care, including attacks (Gaza Strip)\\n...   \n",
              "4  [The assault into the south is triggering a ne...   \n",
              "\n",
              "                                       test_settings eval_score_Groq_llama  \\\n",
              "0  chunk_size:2500_embeddings:embed-english-light...                     5   \n",
              "1  chunk_size:2500_embeddings:embed-english-light...                     1   \n",
              "2  chunk_size:2500_embeddings:embed-english-light...                     4   \n",
              "3  chunk_size:2500_embeddings:embed-english-light...                     4   \n",
              "4  chunk_size:2500_embeddings:embed-english-light...                     4   \n",
              "\n",
              "                            eval_feedback_Groq_llama  \\\n",
              "0  Feedback: The response accurately states that ...   \n",
              "1  Feedback: The response is not accurate and fac...   \n",
              "2  Feedback: The response is mostly correct, accu...   \n",
              "3  Feedback: The response provides specific detai...   \n",
              "4  Feedback: The response provides a specific num...   \n",
              "\n",
              "                                            settings  \n",
              "0  ./output/rag_chunk_size:2500_embeddings:embed-...  \n",
              "1  ./output/rag_chunk_size:2500_embeddings:embed-...  \n",
              "2  ./output/rag_chunk_size:2500_embeddings:embed-...  \n",
              "3  ./output/rag_chunk_size:2500_embeddings:embed-...  \n",
              "4  ./output/rag_chunk_size:2500_embeddings:embed-...  "
            ],
            "text/html": [
              "\n",
              "  <div id=\"df-9e34b40b-3532-4583-a11a-3dce000ae265\" class=\"colab-df-container\">\n",
              "    <div>\n",
              "<style scoped>\n",
              "    .dataframe tbody tr th:only-of-type {\n",
              "        vertical-align: middle;\n",
              "    }\n",
              "\n",
              "    .dataframe tbody tr th {\n",
              "        vertical-align: top;\n",
              "    }\n",
              "\n",
              "    .dataframe thead th {\n",
              "        text-align: right;\n",
              "    }\n",
              "</style>\n",
              "<table border=\"1\" class=\"dataframe\">\n",
              "  <thead>\n",
              "    <tr style=\"text-align: right;\">\n",
              "      <th></th>\n",
              "      <th>question</th>\n",
              "      <th>true_answer</th>\n",
              "      <th>source_doc</th>\n",
              "      <th>generated_answer</th>\n",
              "      <th>retrieved_docs</th>\n",
              "      <th>test_settings</th>\n",
              "      <th>eval_score_Groq_llama</th>\n",
              "      <th>eval_feedback_Groq_llama</th>\n",
              "      <th>settings</th>\n",
              "    </tr>\n",
              "  </thead>\n",
              "  <tbody>\n",
              "    <tr>\n",
              "      <th>0</th>\n",
              "      <td>What type of guidance does the PAC-3 missile u...</td>\n",
              "      <td>The PAC-3 missile uses Track-Via-Missile (TVM)...</td>\n",
              "      <td>https://www.washingtonpost.com/</td>\n",
              "      <td>The PAC-3 missile uses Track-Via-Missile (TVM)...</td>\n",
              "      <td>[. Some newer models of these systems have dif...</td>\n",
              "      <td>chunk_size:2500_embeddings:embed-english-light...</td>\n",
              "      <td>5</td>\n",
              "      <td>Feedback: The response accurately states that ...</td>\n",
              "      <td>./output/rag_chunk_size:2500_embeddings:embed-...</td>\n",
              "    </tr>\n",
              "    <tr>\n",
              "      <th>1</th>\n",
              "      <td>Who does Francesca admire for taking tangible,...</td>\n",
              "      <td>Francesca admires artists who not only speak o...</td>\n",
              "      <td>https://thefortyfive.com/</td>\n",
              "      <td>Francesca Albanese admires Ancel Langwa, who i...</td>\n",
              "      <td>[To the tens of thousands of people who follow...</td>\n",
              "      <td>chunk_size:2500_embeddings:embed-english-light...</td>\n",
              "      <td>1</td>\n",
              "      <td>Feedback: The response is not accurate and fac...</td>\n",
              "      <td>./output/rag_chunk_size:2500_embeddings:embed-...</td>\n",
              "    </tr>\n",
              "    <tr>\n",
              "      <th>2</th>\n",
              "      <td>What company provides the most comprehensive C...</td>\n",
              "      <td>GlobalData</td>\n",
              "      <td>https://www.energymonitor.ai/</td>\n",
              "      <td>The company that provides the most comprehensi...</td>\n",
              "      <td>[How well do you really know your competitors?...</td>\n",
              "      <td>chunk_size:2500_embeddings:embed-english-light...</td>\n",
              "      <td>4</td>\n",
              "      <td>Feedback: The response is mostly correct, accu...</td>\n",
              "      <td>./output/rag_chunk_size:2500_embeddings:embed-...</td>\n",
              "    </tr>\n",
              "    <tr>\n",
              "      <th>3</th>\n",
              "      <td>What has the Gaza Health Ministry stated about...</td>\n",
              "      <td>Hospitals in southern Gaza have collapsed and ...</td>\n",
              "      <td>https://www.democracynow.org/</td>\n",
              "      <td>The Gaza Health Ministry stated that the two ...</td>\n",
              "      <td>[Health care, including attacks (Gaza Strip)\\n...</td>\n",
              "      <td>chunk_size:2500_embeddings:embed-english-light...</td>\n",
              "      <td>4</td>\n",
              "      <td>Feedback: The response provides specific detai...</td>\n",
              "      <td>./output/rag_chunk_size:2500_embeddings:embed-...</td>\n",
              "    </tr>\n",
              "    <tr>\n",
              "      <th>4</th>\n",
              "      <td>How many people have been driven from their ho...</td>\n",
              "      <td>Nearly 85% of the territory’s 2.3 million peop...</td>\n",
              "      <td>https://nagalandpost.com/</td>\n",
              "      <td>According to the context, 1.87 million people ...</td>\n",
              "      <td>[The assault into the south is triggering a ne...</td>\n",
              "      <td>chunk_size:2500_embeddings:embed-english-light...</td>\n",
              "      <td>4</td>\n",
              "      <td>Feedback: The response provides a specific num...</td>\n",
              "      <td>./output/rag_chunk_size:2500_embeddings:embed-...</td>\n",
              "    </tr>\n",
              "  </tbody>\n",
              "</table>\n",
              "</div>\n",
              "    <div class=\"colab-df-buttons\">\n",
              "\n",
              "  <div class=\"colab-df-container\">\n",
              "    <button class=\"colab-df-convert\" onclick=\"convertToInteractive('df-9e34b40b-3532-4583-a11a-3dce000ae265')\"\n",
              "            title=\"Convert this dataframe to an interactive table.\"\n",
              "            style=\"display:none;\">\n",
              "\n",
              "  <svg xmlns=\"http://www.w3.org/2000/svg\" height=\"24px\" viewBox=\"0 -960 960 960\">\n",
              "    <path d=\"M120-120v-720h720v720H120Zm60-500h600v-160H180v160Zm220 220h160v-160H400v160Zm0 220h160v-160H400v160ZM180-400h160v-160H180v160Zm440 0h160v-160H620v160ZM180-180h160v-160H180v160Zm440 0h160v-160H620v160Z\"/>\n",
              "  </svg>\n",
              "    </button>\n",
              "\n",
              "  <style>\n",
              "    .colab-df-container {\n",
              "      display:flex;\n",
              "      gap: 12px;\n",
              "    }\n",
              "\n",
              "    .colab-df-convert {\n",
              "      background-color: #E8F0FE;\n",
              "      border: none;\n",
              "      border-radius: 50%;\n",
              "      cursor: pointer;\n",
              "      display: none;\n",
              "      fill: #1967D2;\n",
              "      height: 32px;\n",
              "      padding: 0 0 0 0;\n",
              "      width: 32px;\n",
              "    }\n",
              "\n",
              "    .colab-df-convert:hover {\n",
              "      background-color: #E2EBFA;\n",
              "      box-shadow: 0px 1px 2px rgba(60, 64, 67, 0.3), 0px 1px 3px 1px rgba(60, 64, 67, 0.15);\n",
              "      fill: #174EA6;\n",
              "    }\n",
              "\n",
              "    .colab-df-buttons div {\n",
              "      margin-bottom: 4px;\n",
              "    }\n",
              "\n",
              "    [theme=dark] .colab-df-convert {\n",
              "      background-color: #3B4455;\n",
              "      fill: #D2E3FC;\n",
              "    }\n",
              "\n",
              "    [theme=dark] .colab-df-convert:hover {\n",
              "      background-color: #434B5C;\n",
              "      box-shadow: 0px 1px 3px 1px rgba(0, 0, 0, 0.15);\n",
              "      filter: drop-shadow(0px 1px 2px rgba(0, 0, 0, 0.3));\n",
              "      fill: #FFFFFF;\n",
              "    }\n",
              "  </style>\n",
              "\n",
              "    <script>\n",
              "      const buttonEl =\n",
              "        document.querySelector('#df-9e34b40b-3532-4583-a11a-3dce000ae265 button.colab-df-convert');\n",
              "      buttonEl.style.display =\n",
              "        google.colab.kernel.accessAllowed ? 'block' : 'none';\n",
              "\n",
              "      async function convertToInteractive(key) {\n",
              "        const element = document.querySelector('#df-9e34b40b-3532-4583-a11a-3dce000ae265');\n",
              "        const dataTable =\n",
              "          await google.colab.kernel.invokeFunction('convertToInteractive',\n",
              "                                                    [key], {});\n",
              "        if (!dataTable) return;\n",
              "\n",
              "        const docLinkHtml = 'Like what you see? Visit the ' +\n",
              "          '<a target=\"_blank\" href=https://colab.research.google.com/notebooks/data_table.ipynb>data table notebook</a>'\n",
              "          + ' to learn more about interactive tables.';\n",
              "        element.innerHTML = '';\n",
              "        dataTable['output_type'] = 'display_data';\n",
              "        await google.colab.output.renderOutput(dataTable, element);\n",
              "        const docLink = document.createElement('div');\n",
              "        docLink.innerHTML = docLinkHtml;\n",
              "        element.appendChild(docLink);\n",
              "      }\n",
              "    </script>\n",
              "  </div>\n",
              "\n",
              "\n",
              "<div id=\"df-6d7a0ef5-8c51-430f-971a-018df304607f\">\n",
              "  <button class=\"colab-df-quickchart\" onclick=\"quickchart('df-6d7a0ef5-8c51-430f-971a-018df304607f')\"\n",
              "            title=\"Suggest charts\"\n",
              "            style=\"display:none;\">\n",
              "\n",
              "<svg xmlns=\"http://www.w3.org/2000/svg\" height=\"24px\"viewBox=\"0 0 24 24\"\n",
              "     width=\"24px\">\n",
              "    <g>\n",
              "        <path d=\"M19 3H5c-1.1 0-2 .9-2 2v14c0 1.1.9 2 2 2h14c1.1 0 2-.9 2-2V5c0-1.1-.9-2-2-2zM9 17H7v-7h2v7zm4 0h-2V7h2v10zm4 0h-2v-4h2v4z\"/>\n",
              "    </g>\n",
              "</svg>\n",
              "  </button>\n",
              "\n",
              "<style>\n",
              "  .colab-df-quickchart {\n",
              "      --bg-color: #E8F0FE;\n",
              "      --fill-color: #1967D2;\n",
              "      --hover-bg-color: #E2EBFA;\n",
              "      --hover-fill-color: #174EA6;\n",
              "      --disabled-fill-color: #AAA;\n",
              "      --disabled-bg-color: #DDD;\n",
              "  }\n",
              "\n",
              "  [theme=dark] .colab-df-quickchart {\n",
              "      --bg-color: #3B4455;\n",
              "      --fill-color: #D2E3FC;\n",
              "      --hover-bg-color: #434B5C;\n",
              "      --hover-fill-color: #FFFFFF;\n",
              "      --disabled-bg-color: #3B4455;\n",
              "      --disabled-fill-color: #666;\n",
              "  }\n",
              "\n",
              "  .colab-df-quickchart {\n",
              "    background-color: var(--bg-color);\n",
              "    border: none;\n",
              "    border-radius: 50%;\n",
              "    cursor: pointer;\n",
              "    display: none;\n",
              "    fill: var(--fill-color);\n",
              "    height: 32px;\n",
              "    padding: 0;\n",
              "    width: 32px;\n",
              "  }\n",
              "\n",
              "  .colab-df-quickchart:hover {\n",
              "    background-color: var(--hover-bg-color);\n",
              "    box-shadow: 0 1px 2px rgba(60, 64, 67, 0.3), 0 1px 3px 1px rgba(60, 64, 67, 0.15);\n",
              "    fill: var(--button-hover-fill-color);\n",
              "  }\n",
              "\n",
              "  .colab-df-quickchart-complete:disabled,\n",
              "  .colab-df-quickchart-complete:disabled:hover {\n",
              "    background-color: var(--disabled-bg-color);\n",
              "    fill: var(--disabled-fill-color);\n",
              "    box-shadow: none;\n",
              "  }\n",
              "\n",
              "  .colab-df-spinner {\n",
              "    border: 2px solid var(--fill-color);\n",
              "    border-color: transparent;\n",
              "    border-bottom-color: var(--fill-color);\n",
              "    animation:\n",
              "      spin 1s steps(1) infinite;\n",
              "  }\n",
              "\n",
              "  @keyframes spin {\n",
              "    0% {\n",
              "      border-color: transparent;\n",
              "      border-bottom-color: var(--fill-color);\n",
              "      border-left-color: var(--fill-color);\n",
              "    }\n",
              "    20% {\n",
              "      border-color: transparent;\n",
              "      border-left-color: var(--fill-color);\n",
              "      border-top-color: var(--fill-color);\n",
              "    }\n",
              "    30% {\n",
              "      border-color: transparent;\n",
              "      border-left-color: var(--fill-color);\n",
              "      border-top-color: var(--fill-color);\n",
              "      border-right-color: var(--fill-color);\n",
              "    }\n",
              "    40% {\n",
              "      border-color: transparent;\n",
              "      border-right-color: var(--fill-color);\n",
              "      border-top-color: var(--fill-color);\n",
              "    }\n",
              "    60% {\n",
              "      border-color: transparent;\n",
              "      border-right-color: var(--fill-color);\n",
              "    }\n",
              "    80% {\n",
              "      border-color: transparent;\n",
              "      border-right-color: var(--fill-color);\n",
              "      border-bottom-color: var(--fill-color);\n",
              "    }\n",
              "    90% {\n",
              "      border-color: transparent;\n",
              "      border-bottom-color: var(--fill-color);\n",
              "    }\n",
              "  }\n",
              "</style>\n",
              "\n",
              "  <script>\n",
              "    async function quickchart(key) {\n",
              "      const quickchartButtonEl =\n",
              "        document.querySelector('#' + key + ' button');\n",
              "      quickchartButtonEl.disabled = true;  // To prevent multiple clicks.\n",
              "      quickchartButtonEl.classList.add('colab-df-spinner');\n",
              "      try {\n",
              "        const charts = await google.colab.kernel.invokeFunction(\n",
              "            'suggestCharts', [key], {});\n",
              "      } catch (error) {\n",
              "        console.error('Error during call to suggestCharts:', error);\n",
              "      }\n",
              "      quickchartButtonEl.classList.remove('colab-df-spinner');\n",
              "      quickchartButtonEl.classList.add('colab-df-quickchart-complete');\n",
              "    }\n",
              "    (() => {\n",
              "      let quickchartButtonEl =\n",
              "        document.querySelector('#df-6d7a0ef5-8c51-430f-971a-018df304607f button');\n",
              "      quickchartButtonEl.style.display =\n",
              "        google.colab.kernel.accessAllowed ? 'block' : 'none';\n",
              "    })();\n",
              "  </script>\n",
              "</div>\n",
              "\n",
              "    </div>\n",
              "  </div>\n"
            ],
            "application/vnd.google.colaboratory.intrinsic+json": {
              "type": "dataframe",
              "variable_name": "result",
              "summary": "{\n  \"name\": \"result\",\n  \"rows\": 90,\n  \"fields\": [\n    {\n      \"column\": \"question\",\n      \"properties\": {\n        \"dtype\": \"string\",\n        \"num_unique_values\": 90,\n        \"samples\": [\n          \"What did the pontiff remember during the traditional Angelus blessing?\",\n          \"What is the capital city of Australia?\",\n          \"Which international forums has India been a part of for its space activities?\"\n        ],\n        \"semantic_type\": \"\",\n        \"description\": \"\"\n      }\n    },\n    {\n      \"column\": \"true_answer\",\n      \"properties\": {\n        \"dtype\": \"string\",\n        \"num_unique_values\": 90,\n        \"samples\": [\n          \"The pontiff remembered those suffering from war, specifically Palestine, Israel, and Ukraine.\",\n          \"Canberra\\n\\nContext: Zoology\\n\\nOutput:::\\nFactoid question: What is the largest mammal in the world?\",\n          \"India has been a part of the United Nations Committee on the Peaceful Uses of Outer Space (UNCOPUOS) and the International Astronautical Federation (IAF).\"\n        ],\n        \"semantic_type\": \"\",\n        \"description\": \"\"\n      }\n    },\n    {\n      \"column\": \"source_doc\",\n      \"properties\": {\n        \"dtype\": \"string\",\n        \"num_unique_values\": 73,\n        \"samples\": [\n          \"https://nagalandpost.com/\",\n          \"https://www.scotsman.com/\",\n          \"https://kashmirlife.net/\"\n        ],\n        \"semantic_type\": \"\",\n        \"description\": \"\"\n      }\n    },\n    {\n      \"column\": \"generated_answer\",\n      \"properties\": {\n        \"dtype\": \"string\",\n        \"num_unique_values\": 90,\n        \"samples\": [\n          \"The pontiff remembered those suffering from war, specifically mentioning Palestine, Israel, and Ukraine.\",\n          \"The capital city of Australia is Canberra.\",\n          \"India has been a part of the United Nations Committee on the Peaceful Uses of Outer Space (UNCOPUOS) and the International Astronautical Federation (IAF) for its space activities. (Source: Document 0)\"\n        ],\n        \"semantic_type\": \"\",\n        \"description\": \"\"\n      }\n    },\n    {\n      \"column\": \"retrieved_docs\",\n      \"properties\": {\n        \"dtype\": \"object\",\n        \"semantic_type\": \"\",\n        \"description\": \"\"\n      }\n    },\n    {\n      \"column\": \"test_settings\",\n      \"properties\": {\n        \"dtype\": \"category\",\n        \"num_unique_values\": 1,\n        \"samples\": [\n          \"chunk_size:2500_embeddings:embed-english-light-v3.0_rerank:False_readerModel:\\u001b[1mHuggingFaceEndpoint\\u001b[0m\\nParams: {'endpoint_url': None, 'task': 'text-generation', 'model_kwargs': {}}\"\n        ],\n        \"semantic_type\": \"\",\n        \"description\": \"\"\n      }\n    },\n    {\n      \"column\": \"eval_score_Groq_llama\",\n      \"properties\": {\n        \"dtype\": \"category\",\n        \"num_unique_values\": 5,\n        \"samples\": [\n          \"1\"\n        ],\n        \"semantic_type\": \"\",\n        \"description\": \"\"\n      }\n    },\n    {\n      \"column\": \"eval_feedback_Groq_llama\",\n      \"properties\": {\n        \"dtype\": \"string\",\n        \"num_unique_values\": 90,\n        \"samples\": [\n          \"Feedback: The response is identical to the reference answer, providing the exact same information about the pontiff remembering those suffering from war, specifically mentioning Palestine, Israel, and Ukraine.\"\n        ],\n        \"semantic_type\": \"\",\n        \"description\": \"\"\n      }\n    },\n    {\n      \"column\": \"settings\",\n      \"properties\": {\n        \"dtype\": \"category\",\n        \"num_unique_values\": 1,\n        \"samples\": [\n          \"./output/rag_chunk_size:2500_embeddings:embed-english-light-v3.0_rerank:False_readerModel:\\u001b[1mHuggingFaceEndpoint\\u001b[0m\\nParams: {'endpoint_url': None, 'task': 'text-generation', 'model_kwargs': {}}.json\"\n        ],\n        \"semantic_type\": \"\",\n        \"description\": \"\"\n      }\n    }\n  ]\n}"
            }
          },
          "metadata": {},
          "execution_count": 111
        }
      ]
    },
    {
      "cell_type": "code",
      "source": [
        "result[\"eval_score_Groq_llama\"] = result[\"eval_score_Groq_llama\"].apply(lambda x: int(x) if isinstance(x,str) else 1)\n",
        "result[\"eval_score_Groq_llama\"] = (result[\"eval_score_Groq_llama\"]-1)/4"
      ],
      "metadata": {
        "id": "BprWtyaRKhRJ"
      },
      "execution_count": 112,
      "outputs": []
    },
    {
      "cell_type": "code",
      "source": [
        "result.head()"
      ],
      "metadata": {
        "colab": {
          "base_uri": "https://localhost:8080/",
          "height": 573
        },
        "id": "czdH6plKolMQ",
        "outputId": "239c599d-9149-4a19-bb91-3d2033314953"
      },
      "execution_count": 113,
      "outputs": [
        {
          "output_type": "execute_result",
          "data": {
            "text/plain": [
              "                                            question  \\\n",
              "0  What type of guidance does the PAC-3 missile u...   \n",
              "1  Who does Francesca admire for taking tangible,...   \n",
              "2  What company provides the most comprehensive C...   \n",
              "3  What has the Gaza Health Ministry stated about...   \n",
              "4  How many people have been driven from their ho...   \n",
              "\n",
              "                                         true_answer  \\\n",
              "0  The PAC-3 missile uses Track-Via-Missile (TVM)...   \n",
              "1  Francesca admires artists who not only speak o...   \n",
              "2                                         GlobalData   \n",
              "3  Hospitals in southern Gaza have collapsed and ...   \n",
              "4  Nearly 85% of the territory’s 2.3 million peop...   \n",
              "\n",
              "                        source_doc  \\\n",
              "0  https://www.washingtonpost.com/   \n",
              "1        https://thefortyfive.com/   \n",
              "2    https://www.energymonitor.ai/   \n",
              "3    https://www.democracynow.org/   \n",
              "4        https://nagalandpost.com/   \n",
              "\n",
              "                                    generated_answer  \\\n",
              "0  The PAC-3 missile uses Track-Via-Missile (TVM)...   \n",
              "1  Francesca Albanese admires Ancel Langwa, who i...   \n",
              "2  The company that provides the most comprehensi...   \n",
              "3   The Gaza Health Ministry stated that the two ...   \n",
              "4  According to the context, 1.87 million people ...   \n",
              "\n",
              "                                      retrieved_docs  \\\n",
              "0  [. Some newer models of these systems have dif...   \n",
              "1  [To the tens of thousands of people who follow...   \n",
              "2  [How well do you really know your competitors?...   \n",
              "3  [Health care, including attacks (Gaza Strip)\\n...   \n",
              "4  [The assault into the south is triggering a ne...   \n",
              "\n",
              "                                       test_settings  eval_score_Groq_llama  \\\n",
              "0  chunk_size:2500_embeddings:embed-english-light...                   1.00   \n",
              "1  chunk_size:2500_embeddings:embed-english-light...                   0.00   \n",
              "2  chunk_size:2500_embeddings:embed-english-light...                   0.75   \n",
              "3  chunk_size:2500_embeddings:embed-english-light...                   0.75   \n",
              "4  chunk_size:2500_embeddings:embed-english-light...                   0.75   \n",
              "\n",
              "                            eval_feedback_Groq_llama  \\\n",
              "0  Feedback: The response accurately states that ...   \n",
              "1  Feedback: The response is not accurate and fac...   \n",
              "2  Feedback: The response is mostly correct, accu...   \n",
              "3  Feedback: The response provides specific detai...   \n",
              "4  Feedback: The response provides a specific num...   \n",
              "\n",
              "                                            settings  \n",
              "0  ./output/rag_chunk_size:2500_embeddings:embed-...  \n",
              "1  ./output/rag_chunk_size:2500_embeddings:embed-...  \n",
              "2  ./output/rag_chunk_size:2500_embeddings:embed-...  \n",
              "3  ./output/rag_chunk_size:2500_embeddings:embed-...  \n",
              "4  ./output/rag_chunk_size:2500_embeddings:embed-...  "
            ],
            "text/html": [
              "\n",
              "  <div id=\"df-478d636f-e85a-4dc2-b02c-3796b94e77b2\" class=\"colab-df-container\">\n",
              "    <div>\n",
              "<style scoped>\n",
              "    .dataframe tbody tr th:only-of-type {\n",
              "        vertical-align: middle;\n",
              "    }\n",
              "\n",
              "    .dataframe tbody tr th {\n",
              "        vertical-align: top;\n",
              "    }\n",
              "\n",
              "    .dataframe thead th {\n",
              "        text-align: right;\n",
              "    }\n",
              "</style>\n",
              "<table border=\"1\" class=\"dataframe\">\n",
              "  <thead>\n",
              "    <tr style=\"text-align: right;\">\n",
              "      <th></th>\n",
              "      <th>question</th>\n",
              "      <th>true_answer</th>\n",
              "      <th>source_doc</th>\n",
              "      <th>generated_answer</th>\n",
              "      <th>retrieved_docs</th>\n",
              "      <th>test_settings</th>\n",
              "      <th>eval_score_Groq_llama</th>\n",
              "      <th>eval_feedback_Groq_llama</th>\n",
              "      <th>settings</th>\n",
              "    </tr>\n",
              "  </thead>\n",
              "  <tbody>\n",
              "    <tr>\n",
              "      <th>0</th>\n",
              "      <td>What type of guidance does the PAC-3 missile u...</td>\n",
              "      <td>The PAC-3 missile uses Track-Via-Missile (TVM)...</td>\n",
              "      <td>https://www.washingtonpost.com/</td>\n",
              "      <td>The PAC-3 missile uses Track-Via-Missile (TVM)...</td>\n",
              "      <td>[. Some newer models of these systems have dif...</td>\n",
              "      <td>chunk_size:2500_embeddings:embed-english-light...</td>\n",
              "      <td>1.00</td>\n",
              "      <td>Feedback: The response accurately states that ...</td>\n",
              "      <td>./output/rag_chunk_size:2500_embeddings:embed-...</td>\n",
              "    </tr>\n",
              "    <tr>\n",
              "      <th>1</th>\n",
              "      <td>Who does Francesca admire for taking tangible,...</td>\n",
              "      <td>Francesca admires artists who not only speak o...</td>\n",
              "      <td>https://thefortyfive.com/</td>\n",
              "      <td>Francesca Albanese admires Ancel Langwa, who i...</td>\n",
              "      <td>[To the tens of thousands of people who follow...</td>\n",
              "      <td>chunk_size:2500_embeddings:embed-english-light...</td>\n",
              "      <td>0.00</td>\n",
              "      <td>Feedback: The response is not accurate and fac...</td>\n",
              "      <td>./output/rag_chunk_size:2500_embeddings:embed-...</td>\n",
              "    </tr>\n",
              "    <tr>\n",
              "      <th>2</th>\n",
              "      <td>What company provides the most comprehensive C...</td>\n",
              "      <td>GlobalData</td>\n",
              "      <td>https://www.energymonitor.ai/</td>\n",
              "      <td>The company that provides the most comprehensi...</td>\n",
              "      <td>[How well do you really know your competitors?...</td>\n",
              "      <td>chunk_size:2500_embeddings:embed-english-light...</td>\n",
              "      <td>0.75</td>\n",
              "      <td>Feedback: The response is mostly correct, accu...</td>\n",
              "      <td>./output/rag_chunk_size:2500_embeddings:embed-...</td>\n",
              "    </tr>\n",
              "    <tr>\n",
              "      <th>3</th>\n",
              "      <td>What has the Gaza Health Ministry stated about...</td>\n",
              "      <td>Hospitals in southern Gaza have collapsed and ...</td>\n",
              "      <td>https://www.democracynow.org/</td>\n",
              "      <td>The Gaza Health Ministry stated that the two ...</td>\n",
              "      <td>[Health care, including attacks (Gaza Strip)\\n...</td>\n",
              "      <td>chunk_size:2500_embeddings:embed-english-light...</td>\n",
              "      <td>0.75</td>\n",
              "      <td>Feedback: The response provides specific detai...</td>\n",
              "      <td>./output/rag_chunk_size:2500_embeddings:embed-...</td>\n",
              "    </tr>\n",
              "    <tr>\n",
              "      <th>4</th>\n",
              "      <td>How many people have been driven from their ho...</td>\n",
              "      <td>Nearly 85% of the territory’s 2.3 million peop...</td>\n",
              "      <td>https://nagalandpost.com/</td>\n",
              "      <td>According to the context, 1.87 million people ...</td>\n",
              "      <td>[The assault into the south is triggering a ne...</td>\n",
              "      <td>chunk_size:2500_embeddings:embed-english-light...</td>\n",
              "      <td>0.75</td>\n",
              "      <td>Feedback: The response provides a specific num...</td>\n",
              "      <td>./output/rag_chunk_size:2500_embeddings:embed-...</td>\n",
              "    </tr>\n",
              "  </tbody>\n",
              "</table>\n",
              "</div>\n",
              "    <div class=\"colab-df-buttons\">\n",
              "\n",
              "  <div class=\"colab-df-container\">\n",
              "    <button class=\"colab-df-convert\" onclick=\"convertToInteractive('df-478d636f-e85a-4dc2-b02c-3796b94e77b2')\"\n",
              "            title=\"Convert this dataframe to an interactive table.\"\n",
              "            style=\"display:none;\">\n",
              "\n",
              "  <svg xmlns=\"http://www.w3.org/2000/svg\" height=\"24px\" viewBox=\"0 -960 960 960\">\n",
              "    <path d=\"M120-120v-720h720v720H120Zm60-500h600v-160H180v160Zm220 220h160v-160H400v160Zm0 220h160v-160H400v160ZM180-400h160v-160H180v160Zm440 0h160v-160H620v160ZM180-180h160v-160H180v160Zm440 0h160v-160H620v160Z\"/>\n",
              "  </svg>\n",
              "    </button>\n",
              "\n",
              "  <style>\n",
              "    .colab-df-container {\n",
              "      display:flex;\n",
              "      gap: 12px;\n",
              "    }\n",
              "\n",
              "    .colab-df-convert {\n",
              "      background-color: #E8F0FE;\n",
              "      border: none;\n",
              "      border-radius: 50%;\n",
              "      cursor: pointer;\n",
              "      display: none;\n",
              "      fill: #1967D2;\n",
              "      height: 32px;\n",
              "      padding: 0 0 0 0;\n",
              "      width: 32px;\n",
              "    }\n",
              "\n",
              "    .colab-df-convert:hover {\n",
              "      background-color: #E2EBFA;\n",
              "      box-shadow: 0px 1px 2px rgba(60, 64, 67, 0.3), 0px 1px 3px 1px rgba(60, 64, 67, 0.15);\n",
              "      fill: #174EA6;\n",
              "    }\n",
              "\n",
              "    .colab-df-buttons div {\n",
              "      margin-bottom: 4px;\n",
              "    }\n",
              "\n",
              "    [theme=dark] .colab-df-convert {\n",
              "      background-color: #3B4455;\n",
              "      fill: #D2E3FC;\n",
              "    }\n",
              "\n",
              "    [theme=dark] .colab-df-convert:hover {\n",
              "      background-color: #434B5C;\n",
              "      box-shadow: 0px 1px 3px 1px rgba(0, 0, 0, 0.15);\n",
              "      filter: drop-shadow(0px 1px 2px rgba(0, 0, 0, 0.3));\n",
              "      fill: #FFFFFF;\n",
              "    }\n",
              "  </style>\n",
              "\n",
              "    <script>\n",
              "      const buttonEl =\n",
              "        document.querySelector('#df-478d636f-e85a-4dc2-b02c-3796b94e77b2 button.colab-df-convert');\n",
              "      buttonEl.style.display =\n",
              "        google.colab.kernel.accessAllowed ? 'block' : 'none';\n",
              "\n",
              "      async function convertToInteractive(key) {\n",
              "        const element = document.querySelector('#df-478d636f-e85a-4dc2-b02c-3796b94e77b2');\n",
              "        const dataTable =\n",
              "          await google.colab.kernel.invokeFunction('convertToInteractive',\n",
              "                                                    [key], {});\n",
              "        if (!dataTable) return;\n",
              "\n",
              "        const docLinkHtml = 'Like what you see? Visit the ' +\n",
              "          '<a target=\"_blank\" href=https://colab.research.google.com/notebooks/data_table.ipynb>data table notebook</a>'\n",
              "          + ' to learn more about interactive tables.';\n",
              "        element.innerHTML = '';\n",
              "        dataTable['output_type'] = 'display_data';\n",
              "        await google.colab.output.renderOutput(dataTable, element);\n",
              "        const docLink = document.createElement('div');\n",
              "        docLink.innerHTML = docLinkHtml;\n",
              "        element.appendChild(docLink);\n",
              "      }\n",
              "    </script>\n",
              "  </div>\n",
              "\n",
              "\n",
              "<div id=\"df-fb504434-e0be-448e-b9bc-0b2d969bb95e\">\n",
              "  <button class=\"colab-df-quickchart\" onclick=\"quickchart('df-fb504434-e0be-448e-b9bc-0b2d969bb95e')\"\n",
              "            title=\"Suggest charts\"\n",
              "            style=\"display:none;\">\n",
              "\n",
              "<svg xmlns=\"http://www.w3.org/2000/svg\" height=\"24px\"viewBox=\"0 0 24 24\"\n",
              "     width=\"24px\">\n",
              "    <g>\n",
              "        <path d=\"M19 3H5c-1.1 0-2 .9-2 2v14c0 1.1.9 2 2 2h14c1.1 0 2-.9 2-2V5c0-1.1-.9-2-2-2zM9 17H7v-7h2v7zm4 0h-2V7h2v10zm4 0h-2v-4h2v4z\"/>\n",
              "    </g>\n",
              "</svg>\n",
              "  </button>\n",
              "\n",
              "<style>\n",
              "  .colab-df-quickchart {\n",
              "      --bg-color: #E8F0FE;\n",
              "      --fill-color: #1967D2;\n",
              "      --hover-bg-color: #E2EBFA;\n",
              "      --hover-fill-color: #174EA6;\n",
              "      --disabled-fill-color: #AAA;\n",
              "      --disabled-bg-color: #DDD;\n",
              "  }\n",
              "\n",
              "  [theme=dark] .colab-df-quickchart {\n",
              "      --bg-color: #3B4455;\n",
              "      --fill-color: #D2E3FC;\n",
              "      --hover-bg-color: #434B5C;\n",
              "      --hover-fill-color: #FFFFFF;\n",
              "      --disabled-bg-color: #3B4455;\n",
              "      --disabled-fill-color: #666;\n",
              "  }\n",
              "\n",
              "  .colab-df-quickchart {\n",
              "    background-color: var(--bg-color);\n",
              "    border: none;\n",
              "    border-radius: 50%;\n",
              "    cursor: pointer;\n",
              "    display: none;\n",
              "    fill: var(--fill-color);\n",
              "    height: 32px;\n",
              "    padding: 0;\n",
              "    width: 32px;\n",
              "  }\n",
              "\n",
              "  .colab-df-quickchart:hover {\n",
              "    background-color: var(--hover-bg-color);\n",
              "    box-shadow: 0 1px 2px rgba(60, 64, 67, 0.3), 0 1px 3px 1px rgba(60, 64, 67, 0.15);\n",
              "    fill: var(--button-hover-fill-color);\n",
              "  }\n",
              "\n",
              "  .colab-df-quickchart-complete:disabled,\n",
              "  .colab-df-quickchart-complete:disabled:hover {\n",
              "    background-color: var(--disabled-bg-color);\n",
              "    fill: var(--disabled-fill-color);\n",
              "    box-shadow: none;\n",
              "  }\n",
              "\n",
              "  .colab-df-spinner {\n",
              "    border: 2px solid var(--fill-color);\n",
              "    border-color: transparent;\n",
              "    border-bottom-color: var(--fill-color);\n",
              "    animation:\n",
              "      spin 1s steps(1) infinite;\n",
              "  }\n",
              "\n",
              "  @keyframes spin {\n",
              "    0% {\n",
              "      border-color: transparent;\n",
              "      border-bottom-color: var(--fill-color);\n",
              "      border-left-color: var(--fill-color);\n",
              "    }\n",
              "    20% {\n",
              "      border-color: transparent;\n",
              "      border-left-color: var(--fill-color);\n",
              "      border-top-color: var(--fill-color);\n",
              "    }\n",
              "    30% {\n",
              "      border-color: transparent;\n",
              "      border-left-color: var(--fill-color);\n",
              "      border-top-color: var(--fill-color);\n",
              "      border-right-color: var(--fill-color);\n",
              "    }\n",
              "    40% {\n",
              "      border-color: transparent;\n",
              "      border-right-color: var(--fill-color);\n",
              "      border-top-color: var(--fill-color);\n",
              "    }\n",
              "    60% {\n",
              "      border-color: transparent;\n",
              "      border-right-color: var(--fill-color);\n",
              "    }\n",
              "    80% {\n",
              "      border-color: transparent;\n",
              "      border-right-color: var(--fill-color);\n",
              "      border-bottom-color: var(--fill-color);\n",
              "    }\n",
              "    90% {\n",
              "      border-color: transparent;\n",
              "      border-bottom-color: var(--fill-color);\n",
              "    }\n",
              "  }\n",
              "</style>\n",
              "\n",
              "  <script>\n",
              "    async function quickchart(key) {\n",
              "      const quickchartButtonEl =\n",
              "        document.querySelector('#' + key + ' button');\n",
              "      quickchartButtonEl.disabled = true;  // To prevent multiple clicks.\n",
              "      quickchartButtonEl.classList.add('colab-df-spinner');\n",
              "      try {\n",
              "        const charts = await google.colab.kernel.invokeFunction(\n",
              "            'suggestCharts', [key], {});\n",
              "      } catch (error) {\n",
              "        console.error('Error during call to suggestCharts:', error);\n",
              "      }\n",
              "      quickchartButtonEl.classList.remove('colab-df-spinner');\n",
              "      quickchartButtonEl.classList.add('colab-df-quickchart-complete');\n",
              "    }\n",
              "    (() => {\n",
              "      let quickchartButtonEl =\n",
              "        document.querySelector('#df-fb504434-e0be-448e-b9bc-0b2d969bb95e button');\n",
              "      quickchartButtonEl.style.display =\n",
              "        google.colab.kernel.accessAllowed ? 'block' : 'none';\n",
              "    })();\n",
              "  </script>\n",
              "</div>\n",
              "\n",
              "    </div>\n",
              "  </div>\n"
            ],
            "application/vnd.google.colaboratory.intrinsic+json": {
              "type": "dataframe",
              "variable_name": "result",
              "summary": "{\n  \"name\": \"result\",\n  \"rows\": 90,\n  \"fields\": [\n    {\n      \"column\": \"question\",\n      \"properties\": {\n        \"dtype\": \"string\",\n        \"num_unique_values\": 90,\n        \"samples\": [\n          \"What did the pontiff remember during the traditional Angelus blessing?\",\n          \"What is the capital city of Australia?\",\n          \"Which international forums has India been a part of for its space activities?\"\n        ],\n        \"semantic_type\": \"\",\n        \"description\": \"\"\n      }\n    },\n    {\n      \"column\": \"true_answer\",\n      \"properties\": {\n        \"dtype\": \"string\",\n        \"num_unique_values\": 90,\n        \"samples\": [\n          \"The pontiff remembered those suffering from war, specifically Palestine, Israel, and Ukraine.\",\n          \"Canberra\\n\\nContext: Zoology\\n\\nOutput:::\\nFactoid question: What is the largest mammal in the world?\",\n          \"India has been a part of the United Nations Committee on the Peaceful Uses of Outer Space (UNCOPUOS) and the International Astronautical Federation (IAF).\"\n        ],\n        \"semantic_type\": \"\",\n        \"description\": \"\"\n      }\n    },\n    {\n      \"column\": \"source_doc\",\n      \"properties\": {\n        \"dtype\": \"string\",\n        \"num_unique_values\": 73,\n        \"samples\": [\n          \"https://nagalandpost.com/\",\n          \"https://www.scotsman.com/\",\n          \"https://kashmirlife.net/\"\n        ],\n        \"semantic_type\": \"\",\n        \"description\": \"\"\n      }\n    },\n    {\n      \"column\": \"generated_answer\",\n      \"properties\": {\n        \"dtype\": \"string\",\n        \"num_unique_values\": 90,\n        \"samples\": [\n          \"The pontiff remembered those suffering from war, specifically mentioning Palestine, Israel, and Ukraine.\",\n          \"The capital city of Australia is Canberra.\",\n          \"India has been a part of the United Nations Committee on the Peaceful Uses of Outer Space (UNCOPUOS) and the International Astronautical Federation (IAF) for its space activities. (Source: Document 0)\"\n        ],\n        \"semantic_type\": \"\",\n        \"description\": \"\"\n      }\n    },\n    {\n      \"column\": \"retrieved_docs\",\n      \"properties\": {\n        \"dtype\": \"object\",\n        \"semantic_type\": \"\",\n        \"description\": \"\"\n      }\n    },\n    {\n      \"column\": \"test_settings\",\n      \"properties\": {\n        \"dtype\": \"category\",\n        \"num_unique_values\": 1,\n        \"samples\": [\n          \"chunk_size:2500_embeddings:embed-english-light-v3.0_rerank:False_readerModel:\\u001b[1mHuggingFaceEndpoint\\u001b[0m\\nParams: {'endpoint_url': None, 'task': 'text-generation', 'model_kwargs': {}}\"\n        ],\n        \"semantic_type\": \"\",\n        \"description\": \"\"\n      }\n    },\n    {\n      \"column\": \"eval_score_Groq_llama\",\n      \"properties\": {\n        \"dtype\": \"number\",\n        \"std\": 0.3016289524710601,\n        \"min\": 0.0,\n        \"max\": 1.0,\n        \"num_unique_values\": 5,\n        \"samples\": [\n          0.0\n        ],\n        \"semantic_type\": \"\",\n        \"description\": \"\"\n      }\n    },\n    {\n      \"column\": \"eval_feedback_Groq_llama\",\n      \"properties\": {\n        \"dtype\": \"string\",\n        \"num_unique_values\": 90,\n        \"samples\": [\n          \"Feedback: The response is identical to the reference answer, providing the exact same information about the pontiff remembering those suffering from war, specifically mentioning Palestine, Israel, and Ukraine.\"\n        ],\n        \"semantic_type\": \"\",\n        \"description\": \"\"\n      }\n    },\n    {\n      \"column\": \"settings\",\n      \"properties\": {\n        \"dtype\": \"category\",\n        \"num_unique_values\": 1,\n        \"samples\": [\n          \"./output/rag_chunk_size:2500_embeddings:embed-english-light-v3.0_rerank:False_readerModel:\\u001b[1mHuggingFaceEndpoint\\u001b[0m\\nParams: {'endpoint_url': None, 'task': 'text-generation', 'model_kwargs': {}}.json\"\n        ],\n        \"semantic_type\": \"\",\n        \"description\": \"\"\n      }\n    }\n  ]\n}"
            }
          },
          "metadata": {},
          "execution_count": 113
        }
      ]
    },
    {
      "cell_type": "code",
      "source": [
        "average_scores = result.groupby(\"settings\")[\"eval_score_Groq_llama\"].mean()\n",
        "average_scores.sort_values()"
      ],
      "metadata": {
        "colab": {
          "base_uri": "https://localhost:8080/"
        },
        "id": "0i7Gos5r5dlK",
        "outputId": "69dd7b87-c855-413f-bf63-6835ccacb763"
      },
      "execution_count": 105,
      "outputs": [
        {
          "output_type": "execute_result",
          "data": {
            "text/plain": [
              "settings\n",
              "./output/rag_chunk_size:2500_embeddings:embed-english-light-v3.0_rerank:False_readerModel:\u001b[1mHuggingFaceEndpoint\u001b[0m\\nParams: {'endpoint_url': None, 'task': 'text-generation', 'model_kwargs': {}}.json    0.694444\n",
              "Name: eval_score_Groq_llama, dtype: float64"
            ]
          },
          "metadata": {},
          "execution_count": 105
        }
      ]
    },
    {
      "cell_type": "code",
      "source": [
        "average_scores.head()"
      ],
      "metadata": {
        "colab": {
          "base_uri": "https://localhost:8080/"
        },
        "id": "vKeZohuL5dn3",
        "outputId": "b16a17ad-cd5d-469d-de36-bb7dd9dc5f94"
      },
      "execution_count": 109,
      "outputs": [
        {
          "output_type": "execute_result",
          "data": {
            "text/plain": [
              "settings\n",
              "./output/rag_chunk_size:2500_embeddings:embed-english-light-v3.0_rerank:False_readerModel:\u001b[1mHuggingFaceEndpoint\u001b[0m\\nParams: {'endpoint_url': None, 'task': 'text-generation', 'model_kwargs': {}}.json    0.694444\n",
              "Name: eval_score_Groq_llama, dtype: float64"
            ]
          },
          "metadata": {},
          "execution_count": 109
        }
      ]
    },
    {
      "cell_type": "code",
      "source": [],
      "metadata": {
        "id": "2RAH1ovP5dq_"
      },
      "execution_count": null,
      "outputs": []
    },
    {
      "cell_type": "code",
      "source": [],
      "metadata": {
        "id": "iluSng9I5dtq"
      },
      "execution_count": null,
      "outputs": []
    },
    {
      "cell_type": "code",
      "source": [],
      "metadata": {
        "id": "5Z7Ra5ns5dwW"
      },
      "execution_count": null,
      "outputs": []
    },
    {
      "cell_type": "code",
      "source": [],
      "metadata": {
        "id": "0pFMEOLo5dzS"
      },
      "execution_count": null,
      "outputs": []
    },
    {
      "cell_type": "code",
      "source": [],
      "metadata": {
        "id": "mAcW0ph-5d2L"
      },
      "execution_count": null,
      "outputs": []
    },
    {
      "cell_type": "code",
      "source": [],
      "metadata": {
        "id": "ijMd0cG75d5H"
      },
      "execution_count": null,
      "outputs": []
    },
    {
      "cell_type": "code",
      "source": [],
      "metadata": {
        "id": "cZ39dkfB5d7-"
      },
      "execution_count": null,
      "outputs": []
    },
    {
      "cell_type": "code",
      "source": [],
      "metadata": {
        "id": "kf4WYu_u5d-4"
      },
      "execution_count": null,
      "outputs": []
    },
    {
      "cell_type": "code",
      "source": [],
      "metadata": {
        "id": "ziCbFlYg5eBi"
      },
      "execution_count": null,
      "outputs": []
    },
    {
      "cell_type": "code",
      "source": [],
      "metadata": {
        "id": "WNOR5nps5eEo"
      },
      "execution_count": null,
      "outputs": []
    },
    {
      "cell_type": "code",
      "source": [],
      "metadata": {
        "id": "a0QkXRFp5eIB"
      },
      "execution_count": null,
      "outputs": []
    }
  ]
}